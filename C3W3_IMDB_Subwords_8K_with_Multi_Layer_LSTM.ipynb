{
  "nbformat": 4,
  "nbformat_minor": 0,
  "metadata": {
    "colab": {
      "name": "C3W3_IMDB_Subwords_8K_with_Multi_Layer_LSTM.ipynb",
      "provenance": [],
      "authorship_tag": "ABX9TyNa8j/FaPXL8rNxDmvA5GYN",
      "include_colab_link": true
    },
    "kernelspec": {
      "name": "python3",
      "display_name": "Python 3"
    },
    "accelerator": "GPU"
  },
  "cells": [
    {
      "cell_type": "markdown",
      "metadata": {
        "id": "view-in-github",
        "colab_type": "text"
      },
      "source": [
        "<a href=\"https://colab.research.google.com/github/akiabe/coursera-dl-tf-in-practice/blob/master/C3W3_IMDB_Subwords_8K_with_Multi_Layer_LSTM.ipynb\" target=\"_parent\"><img src=\"https://colab.research.google.com/assets/colab-badge.svg\" alt=\"Open In Colab\"/></a>"
      ]
    },
    {
      "cell_type": "code",
      "metadata": {
        "id": "-cIId5BPckm7",
        "colab_type": "code",
        "colab": {}
      },
      "source": [
        "import tensorflow as tf\n",
        "import tensorflow_datasets as tfds"
      ],
      "execution_count": 0,
      "outputs": []
    },
    {
      "cell_type": "code",
      "metadata": {
        "id": "7su7CnWNcyG5",
        "colab_type": "code",
        "colab": {}
      },
      "source": [
        "# Get the data\n",
        "dataset, info = tfds.load('imdb_reviews/subwords8k', with_info=True, as_supervised=True)\n",
        "train_dataset, test_dataset = dataset['train'], dataset['test']"
      ],
      "execution_count": 0,
      "outputs": []
    },
    {
      "cell_type": "code",
      "metadata": {
        "id": "IcBeKA3ic1p5",
        "colab_type": "code",
        "colab": {}
      },
      "source": [
        "# Access the prelearned tokenizer which is trained on subwords\n",
        "# tensorflow.org/datasets/api_docs/python/tfds/features/text/SubwordTextEncoder\n",
        "tokenizer = info.features['text'].encoder"
      ],
      "execution_count": 0,
      "outputs": []
    },
    {
      "cell_type": "code",
      "metadata": {
        "id": "lW7Rq0boc3-Q",
        "colab_type": "code",
        "colab": {}
      },
      "source": [
        "BUFFER_SIZE = 10000\n",
        "BATCH_SIZE = 64\n",
        "\n",
        "# Rondomly shuffles the elements of this dataset\n",
        "train_dataset = train_dataset.shuffle(BUFFER_SIZE)\n",
        "\n",
        "# Padding batches\n",
        "train_dataset = train_dataset.padded_batch(BATCH_SIZE, tf.compat.v1.data.get_output_shapes(train_dataset))\n",
        "test_dataset = test_dataset.padded_batch(BATCH_SIZE, tf.compat.v1.data.get_output_shapes(test_dataset))"
      ],
      "execution_count": 0,
      "outputs": []
    },
    {
      "cell_type": "code",
      "metadata": {
        "id": "7RV1iSfIztPB",
        "colab_type": "code",
        "outputId": "f409f352-f5f0-4190-e93c-686daddce563",
        "colab": {
          "base_uri": "https://localhost:8080/",
          "height": 230
        }
      },
      "source": [
        " for sample_text, sample_label in train_dataset.take(1):\n",
        "   print(sample_text)\n",
        "   print('-' * 40)\n",
        "   print(sample_label)"
      ],
      "execution_count": 17,
      "outputs": [
        {
          "output_type": "stream",
          "text": [
            "tf.Tensor(\n",
            "[[ 404    1  108 ...    0    0    0]\n",
            " [ 691    2   71 ...    0    0    0]\n",
            " [ 156   42  641 ...    0    0    0]\n",
            " ...\n",
            " [ 156   14    9 ...    0    0    0]\n",
            " [ 789 6354   47 ...    0    0    0]\n",
            " [7452 1555 7968 ... 7984 7976  283]], shape=(64, 1021), dtype=int64)\n",
            "----------------------------------------\n",
            "tf.Tensor(\n",
            "[0 1 0 1 0 1 0 0 1 1 1 1 0 0 1 0 1 1 0 1 1 1 0 1 0 1 0 1 1 0 1 1 0 0 1 0 0\n",
            " 1 1 0 1 0 0 1 1 1 0 1 0 0 1 0 1 0 1 1 0 1 0 1 0 0 0 1], shape=(64,), dtype=int64)\n"
          ],
          "name": "stdout"
        }
      ]
    },
    {
      "cell_type": "code",
      "metadata": {
        "id": "owtQvuKOc6op",
        "colab_type": "code",
        "outputId": "386234ea-cfac-460b-b8af-9edf79e6c6b1",
        "colab": {
          "base_uri": "https://localhost:8080/",
          "height": 336
        }
      },
      "source": [
        "# Build the multiple layer LSTM model\n",
        "model = tf.keras.Sequential([\n",
        "    tf.keras.layers.Embedding(tokenizer.vocab_size, 64),\n",
        "    tf.keras.layers.Bidirectional(tf.keras.layers.LSTM(64, return_sequences=True)),\n",
        "    tf.keras.layers.Bidirectional(tf.keras.layers.LSTM(32)),\n",
        "    tf.keras.layers.Dense(64, activation='relu'),\n",
        "    tf.keras.layers.Dense(1, activation='sigmoid')\n",
        "])\n",
        "\n",
        "model.compile(\n",
        "    loss='binary_crossentropy',\n",
        "    optimizer='adam',\n",
        "    metrics=['accuracy']\n",
        ")\n",
        "\n",
        "model.summary()"
      ],
      "execution_count": 18,
      "outputs": [
        {
          "output_type": "stream",
          "text": [
            "Model: \"sequential_2\"\n",
            "_________________________________________________________________\n",
            "Layer (type)                 Output Shape              Param #   \n",
            "=================================================================\n",
            "embedding_2 (Embedding)      (None, None, 64)          523840    \n",
            "_________________________________________________________________\n",
            "bidirectional_4 (Bidirection (None, None, 128)         66048     \n",
            "_________________________________________________________________\n",
            "bidirectional_5 (Bidirection (None, 64)                41216     \n",
            "_________________________________________________________________\n",
            "dense_4 (Dense)              (None, 64)                4160      \n",
            "_________________________________________________________________\n",
            "dense_5 (Dense)              (None, 1)                 65        \n",
            "=================================================================\n",
            "Total params: 635,329\n",
            "Trainable params: 635,329\n",
            "Non-trainable params: 0\n",
            "_________________________________________________________________\n"
          ],
          "name": "stdout"
        }
      ]
    },
    {
      "cell_type": "code",
      "metadata": {
        "id": "XB1sOOiWdFXh",
        "colab_type": "code",
        "outputId": "007131e5-54f6-4006-9497-a9c3394e8b66",
        "colab": {
          "base_uri": "https://localhost:8080/",
          "height": 392
        }
      },
      "source": [
        "# Training the model\n",
        "NUM_EPOCHS = 10\n",
        "\n",
        "history = model.fit(\n",
        "    train_dataset,\n",
        "    epochs=NUM_EPOCHS,\n",
        "    validation_data=test_dataset\n",
        ")"
      ],
      "execution_count": 19,
      "outputs": [
        {
          "output_type": "stream",
          "text": [
            "Epoch 1/10\n",
            "391/391 [==============================] - 110s 282ms/step - loss: 0.6024 - accuracy: 0.6776 - val_loss: 0.5324 - val_accuracy: 0.7600\n",
            "Epoch 2/10\n",
            "391/391 [==============================] - 109s 279ms/step - loss: 0.3822 - accuracy: 0.8400 - val_loss: 0.4383 - val_accuracy: 0.8151\n",
            "Epoch 3/10\n",
            "391/391 [==============================] - 110s 281ms/step - loss: 0.4857 - accuracy: 0.7700 - val_loss: 0.5457 - val_accuracy: 0.7722\n",
            "Epoch 4/10\n",
            "391/391 [==============================] - 109s 280ms/step - loss: 0.3572 - accuracy: 0.8536 - val_loss: 0.4711 - val_accuracy: 0.8084\n",
            "Epoch 5/10\n",
            "391/391 [==============================] - 109s 280ms/step - loss: 0.2834 - accuracy: 0.8896 - val_loss: 0.4432 - val_accuracy: 0.8184\n",
            "Epoch 6/10\n",
            "391/391 [==============================] - 110s 281ms/step - loss: 0.2166 - accuracy: 0.9216 - val_loss: 0.4853 - val_accuracy: 0.8366\n",
            "Epoch 7/10\n",
            "391/391 [==============================] - 109s 279ms/step - loss: 0.1824 - accuracy: 0.9371 - val_loss: 0.5020 - val_accuracy: 0.8138\n",
            "Epoch 8/10\n",
            "391/391 [==============================] - 110s 281ms/step - loss: 0.1529 - accuracy: 0.9465 - val_loss: 0.5702 - val_accuracy: 0.8170\n",
            "Epoch 9/10\n",
            "391/391 [==============================] - 109s 280ms/step - loss: 0.1515 - accuracy: 0.9464 - val_loss: 0.6051 - val_accuracy: 0.7286\n",
            "Epoch 10/10\n",
            "391/391 [==============================] - 109s 278ms/step - loss: 0.2116 - accuracy: 0.9134 - val_loss: 0.5105 - val_accuracy: 0.8056\n"
          ],
          "name": "stdout"
        }
      ]
    },
    {
      "cell_type": "code",
      "metadata": {
        "id": "SHjIEKbqdLsp",
        "colab_type": "code",
        "colab": {
          "base_uri": "https://localhost:8080/",
          "height": 541
        },
        "outputId": "d8625a2d-ec4b-4fdb-9f9c-a43bf9c12d51"
      },
      "source": [
        "# Plot accuracy and loss\n",
        "import matplotlib.pyplot as plt\n",
        "\n",
        "def plot_graphs(history, string):\n",
        "  plt.plot(history.history[string])\n",
        "  plt.plot(history.history['val_'+string])\n",
        "  plt.xlabel(\"Epochs\")\n",
        "  plt.ylabel(string)\n",
        "  plt.legend([string, 'val_'+string])\n",
        "  plt.show()\n",
        "\n",
        "plot_graphs(history, 'accuracy')\n",
        "plot_graphs(history, 'loss')"
      ],
      "execution_count": 20,
      "outputs": [
        {
          "output_type": "display_data",
          "data": {
            "image/png": "[encoded data removed]",
            "text/plain": [
              "<Figure size 432x288 with 1 Axes>"
            ]
          },
          "metadata": {
            "tags": [],
            "needs_background": "light"
          }
        },
        {
          "output_type": "display_data",
          "data": {
            "image/png": "[encoded data removed]",
            "text/plain": [
              "<Figure size 432x288 with 1 Axes>"
            ]
          },
          "metadata": {
            "tags": [],
            "needs_background": "light"
          }
        }
      ]
    },
    {
      "cell_type": "code",
      "metadata": {
        "id": "uhZG5gwr5SQD",
        "colab_type": "code",
        "colab": {}
      },
      "source": [
        ""
      ],
      "execution_count": 0,
      "outputs": []
    }
  ]
}