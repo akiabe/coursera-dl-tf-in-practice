{
  "nbformat": 4,
  "nbformat_minor": 0,
  "metadata": {
    "colab": {
      "name": "C3W2_Sarcasm_dataset.ipynb",
      "provenance": [],
      "authorship_tag": "ABX9TyMm7gSc5YjP4sWpXlF2It/j",
      "include_colab_link": true
    },
    "kernelspec": {
      "name": "python3",
      "display_name": "Python 3"
    },
    "accelerator": "GPU"
  },
  "cells": [
    {
      "cell_type": "markdown",
      "metadata": {
        "id": "view-in-github",
        "colab_type": "text"
      },
      "source": [
        "<a href=\"https://colab.research.google.com/github/akiabe/coursera-dl-tf-in-practice/blob/master/C3W2_Sarcasm_dataset.ipynb\" target=\"_parent\"><img src=\"https://colab.research.google.com/assets/colab-badge.svg\" alt=\"Open In Colab\"/></a>"
      ]
    },
    {
      "cell_type": "code",
      "metadata": {
        "id": "y30FbAys0K1_",
        "colab_type": "code",
        "colab": {}
      },
      "source": [
        "# Load package\n",
        "import json\n",
        "import tensorflow as tf\n",
        "\n",
        "from tensorflow.keras.preprocessing.text import Tokenizer\n",
        "from tensorflow.keras.preprocessing.sequence import pad_sequences"
      ],
      "execution_count": 0,
      "outputs": []
    },
    {
      "cell_type": "code",
      "metadata": {
        "id": "1UkoXkUe0zEK",
        "colab_type": "code",
        "colab": {}
      },
      "source": [
        "# Hyperparameters\n",
        "vocab_size = 10000\n",
        "embedding_dim = 16\n",
        "max_length = 100\n",
        "trunc_type = 'post'\n",
        "padding_type = 'post'\n",
        "oov_tok = \"<OOV>\"\n",
        "training_size = 20000"
      ],
      "execution_count": 0,
      "outputs": []
    },
    {
      "cell_type": "code",
      "metadata": {
        "id": "riy-HUxu1QCb",
        "colab_type": "code",
        "colab": {
          "base_uri": "https://localhost:8080/",
          "height": 212
        },
        "outputId": "a2337d66-50d3-4260-ef69-1e947af0efc1"
      },
      "source": [
        "# Download dataset\n",
        "!wget --no-check-certificate \\\n",
        "    https://storage.googleapis.com/laurencemoroney-blog.appspot.com/sarcasm.json \\\n",
        "    -O /tmp/sarcasm.json"
      ],
      "execution_count": 25,
      "outputs": [
        {
          "output_type": "stream",
          "text": [
            "--2020-06-08 11:49:10--  https://storage.googleapis.com/laurencemoroney-blog.appspot.com/sarcasm.json\n",
            "Resolving storage.googleapis.com (storage.googleapis.com)... 173.194.217.128, 2607:f8b0:400c:c0d::80\n",
            "Connecting to storage.googleapis.com (storage.googleapis.com)|173.194.217.128|:443... connected.\n",
            "HTTP request sent, awaiting response... 200 OK\n",
            "Length: 5643545 (5.4M) [application/json]\n",
            "Saving to: ‘/tmp/sarcasm.json’\n",
            "\n",
            "\r/tmp/sarcasm.json     0%[                    ]       0  --.-KB/s               \r/tmp/sarcasm.json   100%[===================>]   5.38M  --.-KB/s    in 0.04s   \n",
            "\n",
            "2020-06-08 11:49:10 (139 MB/s) - ‘/tmp/sarcasm.json’ saved [5643545/5643545]\n",
            "\n"
          ],
          "name": "stdout"
        }
      ]
    },
    {
      "cell_type": "code",
      "metadata": {
        "id": "fO-afIsL1Tx5",
        "colab_type": "code",
        "colab": {}
      },
      "source": [
        "# Load data from json.file to each list\n",
        "with open(\"/tmp/sarcasm.json\", 'r') as f:\n",
        "    datastore = json.load(f)\n",
        "\n",
        "sentences = []\n",
        "labels = []\n",
        "\n",
        "for item in datastore:\n",
        "    sentences.append(item['headline'])\n",
        "    labels.append(item['is_sarcastic'])"
      ],
      "execution_count": 0,
      "outputs": []
    },
    {
      "cell_type": "code",
      "metadata": {
        "id": "j0C-d2zhtzz1",
        "colab_type": "code",
        "colab": {
          "base_uri": "https://localhost:8080/",
          "height": 52
        },
        "outputId": "79a5dfeb-64bb-41b6-e5b1-a94c5a73240b"
      },
      "source": [
        "print(\"sentences :\", sentences[0])\n",
        "print(\"labels :\", labels[0])"
      ],
      "execution_count": 27,
      "outputs": [
        {
          "output_type": "stream",
          "text": [
            "sentences : former versace store clerk sues over secret 'black code' for minority shoppers\n",
            "labels : 0\n"
          ],
          "name": "stdout"
        }
      ]
    },
    {
      "cell_type": "code",
      "metadata": {
        "id": "1uxDYWZM2NO5",
        "colab_type": "code",
        "colab": {}
      },
      "source": [
        "# Split the corpus into training and validation sets\n",
        "training_sentences = sentences[0:training_size]\n",
        "training_labels = labels[0:training_size]\n",
        "\n",
        "testing_sentences = sentences[training_size:]\n",
        "testing_labels = labels[training_size:]"
      ],
      "execution_count": 0,
      "outputs": []
    },
    {
      "cell_type": "code",
      "metadata": {
        "id": "sRyfPpc6nXMK",
        "colab_type": "code",
        "colab": {}
      },
      "source": [
        "# Instantiate tokenizer\n",
        "tokenizer = Tokenizer(num_words=vocab_size, oov_token=oov_tok)\n",
        "# Tokenizer will then be fit on the training_sentences\n",
        "tokenizer.fit_on_texts(training_sentences)\n",
        "\n",
        "# Word index of tokenizer\n",
        "word_index = tokenizer.word_index\n",
        "\n",
        "# Convert training_sentences into sequence of numbers\n",
        "training_sequences = tokenizer.texts_to_sequences(training_sentences)\n",
        "# Padding zero after the sentense\n",
        "training_padded = pad_sequences(training_sequences, maxlen=max_length, padding=padding_type, truncating=trunc_type)\n",
        "\n",
        "# Convert testing_sequences into sequence of numbers and padding them\n",
        "testing_sequences = tokenizer.texts_to_sequences(testing_sentences)\n",
        "testing_padded = pad_sequences(testing_sequences, maxlen=max_length, padding=padding_type, truncating=trunc_type)"
      ],
      "execution_count": 0,
      "outputs": []
    },
    {
      "cell_type": "code",
      "metadata": {
        "id": "_5HZ6d-LvVnM",
        "colab_type": "code",
        "colab": {}
      },
      "source": [
        "# Convert padded and labels data into np.array \n",
        "import numpy as np\n",
        "training_padded = np.array(training_padded)\n",
        "training_labels = np.array(training_labels)\n",
        "testing_padded = np.array(testing_padded)\n",
        "testing_labels = np.array(testing_labels)"
      ],
      "execution_count": 0,
      "outputs": []
    },
    {
      "cell_type": "code",
      "metadata": {
        "id": "TkE-AkY-pA36",
        "colab_type": "code",
        "colab": {
          "base_uri": "https://localhost:8080/",
          "height": 301
        },
        "outputId": "df9116c7-b39b-4f6f-9fcd-a0d0d1312883"
      },
      "source": [
        "# Build the model\n",
        "model = tf.keras.Sequential([\n",
        "    tf.keras.layers.Embedding(vocab_size, embedding_dim, input_length=max_length),\n",
        "    tf.keras.layers.GlobalAveragePooling1D(),\n",
        "    tf.keras.layers.Dense(24, activation='relu'),\n",
        "    tf.keras.layers.Dense(1, activation='sigmoid')\n",
        "])\n",
        "\n",
        "model.compile(\n",
        "    loss='binary_crossentropy',\n",
        "    optimizer='adam',\n",
        "    metrics=['accuracy']\n",
        ")\n",
        "\n",
        "model.summary()"
      ],
      "execution_count": 31,
      "outputs": [
        {
          "output_type": "stream",
          "text": [
            "Model: \"sequential_3\"\n",
            "_________________________________________________________________\n",
            "Layer (type)                 Output Shape              Param #   \n",
            "=================================================================\n",
            "embedding_3 (Embedding)      (None, 100, 16)           160000    \n",
            "_________________________________________________________________\n",
            "global_average_pooling1d_3 ( (None, 16)                0         \n",
            "_________________________________________________________________\n",
            "dense_6 (Dense)              (None, 24)                408       \n",
            "_________________________________________________________________\n",
            "dense_7 (Dense)              (None, 1)                 25        \n",
            "=================================================================\n",
            "Total params: 160,433\n",
            "Trainable params: 160,433\n",
            "Non-trainable params: 0\n",
            "_________________________________________________________________\n"
          ],
          "name": "stdout"
        }
      ]
    },
    {
      "cell_type": "code",
      "metadata": {
        "id": "7KXcBSnwpVwt",
        "colab_type": "code",
        "colab": {
          "base_uri": "https://localhost:8080/",
          "height": 1000
        },
        "outputId": "34efaa01-1baf-4789-e8ae-ab13c4108c36"
      },
      "source": [
        "# Training 30 epochs\n",
        "num_epochs = 30\n",
        "\n",
        "history = model.fit(\n",
        "    training_padded,\n",
        "    training_labels,\n",
        "    epochs=num_epochs,\n",
        "    validation_data=(testing_padded, testing_labels),\n",
        "    verbose=2\n",
        ")"
      ],
      "execution_count": 32,
      "outputs": [
        {
          "output_type": "stream",
          "text": [
            "Epoch 1/30\n",
            "625/625 - 3s - loss: 0.6622 - accuracy: 0.5911 - val_loss: 0.5695 - val_accuracy: 0.7807\n",
            "Epoch 2/30\n",
            "625/625 - 3s - loss: 0.4235 - accuracy: 0.8354 - val_loss: 0.3787 - val_accuracy: 0.8416\n",
            "Epoch 3/30\n",
            "625/625 - 3s - loss: 0.3055 - accuracy: 0.8805 - val_loss: 0.3488 - val_accuracy: 0.8545\n",
            "Epoch 4/30\n",
            "625/625 - 3s - loss: 0.2544 - accuracy: 0.9011 - val_loss: 0.3410 - val_accuracy: 0.8571\n",
            "Epoch 5/30\n",
            "625/625 - 3s - loss: 0.2190 - accuracy: 0.9168 - val_loss: 0.3428 - val_accuracy: 0.8560\n",
            "Epoch 6/30\n",
            "625/625 - 3s - loss: 0.1926 - accuracy: 0.9262 - val_loss: 0.3513 - val_accuracy: 0.8539\n",
            "Epoch 7/30\n",
            "625/625 - 3s - loss: 0.1703 - accuracy: 0.9367 - val_loss: 0.3646 - val_accuracy: 0.8547\n",
            "Epoch 8/30\n",
            "625/625 - 3s - loss: 0.1518 - accuracy: 0.9433 - val_loss: 0.3804 - val_accuracy: 0.8557\n",
            "Epoch 9/30\n",
            "625/625 - 3s - loss: 0.1368 - accuracy: 0.9505 - val_loss: 0.4187 - val_accuracy: 0.8429\n",
            "Epoch 10/30\n",
            "625/625 - 3s - loss: 0.1226 - accuracy: 0.9564 - val_loss: 0.4222 - val_accuracy: 0.8511\n",
            "Epoch 11/30\n",
            "625/625 - 3s - loss: 0.1121 - accuracy: 0.9604 - val_loss: 0.4466 - val_accuracy: 0.8486\n",
            "Epoch 12/30\n",
            "625/625 - 3s - loss: 0.1012 - accuracy: 0.9664 - val_loss: 0.4761 - val_accuracy: 0.8436\n",
            "Epoch 13/30\n",
            "625/625 - 3s - loss: 0.0901 - accuracy: 0.9704 - val_loss: 0.5036 - val_accuracy: 0.8419\n",
            "Epoch 14/30\n",
            "625/625 - 3s - loss: 0.0830 - accuracy: 0.9718 - val_loss: 0.5352 - val_accuracy: 0.8389\n",
            "Epoch 15/30\n",
            "625/625 - 3s - loss: 0.0773 - accuracy: 0.9747 - val_loss: 0.5738 - val_accuracy: 0.8329\n",
            "Epoch 16/30\n",
            "625/625 - 3s - loss: 0.0710 - accuracy: 0.9767 - val_loss: 0.5963 - val_accuracy: 0.8362\n",
            "Epoch 17/30\n",
            "625/625 - 3s - loss: 0.0651 - accuracy: 0.9794 - val_loss: 0.6311 - val_accuracy: 0.8332\n",
            "Epoch 18/30\n",
            "625/625 - 3s - loss: 0.0590 - accuracy: 0.9804 - val_loss: 0.6618 - val_accuracy: 0.8286\n",
            "Epoch 19/30\n",
            "625/625 - 3s - loss: 0.0560 - accuracy: 0.9818 - val_loss: 0.7200 - val_accuracy: 0.8238\n",
            "Epoch 20/30\n",
            "625/625 - 3s - loss: 0.0490 - accuracy: 0.9850 - val_loss: 0.7460 - val_accuracy: 0.8244\n",
            "Epoch 21/30\n",
            "625/625 - 3s - loss: 0.0450 - accuracy: 0.9861 - val_loss: 0.7744 - val_accuracy: 0.8234\n",
            "Epoch 22/30\n",
            "625/625 - 3s - loss: 0.0424 - accuracy: 0.9872 - val_loss: 0.8026 - val_accuracy: 0.8234\n",
            "Epoch 23/30\n",
            "625/625 - 3s - loss: 0.0392 - accuracy: 0.9886 - val_loss: 0.8401 - val_accuracy: 0.8211\n",
            "Epoch 24/30\n",
            "625/625 - 3s - loss: 0.0353 - accuracy: 0.9894 - val_loss: 0.8767 - val_accuracy: 0.8222\n",
            "Epoch 25/30\n",
            "625/625 - 3s - loss: 0.0328 - accuracy: 0.9905 - val_loss: 0.9192 - val_accuracy: 0.8174\n",
            "Epoch 26/30\n",
            "625/625 - 3s - loss: 0.0301 - accuracy: 0.9916 - val_loss: 0.9988 - val_accuracy: 0.8125\n",
            "Epoch 27/30\n",
            "625/625 - 3s - loss: 0.0268 - accuracy: 0.9923 - val_loss: 0.9916 - val_accuracy: 0.8153\n",
            "Epoch 28/30\n",
            "625/625 - 3s - loss: 0.0244 - accuracy: 0.9933 - val_loss: 1.0355 - val_accuracy: 0.8146\n",
            "Epoch 29/30\n",
            "625/625 - 3s - loss: 0.0231 - accuracy: 0.9932 - val_loss: 1.0631 - val_accuracy: 0.8131\n",
            "Epoch 30/30\n",
            "625/625 - 3s - loss: 0.0213 - accuracy: 0.9941 - val_loss: 1.1062 - val_accuracy: 0.8128\n"
          ],
          "name": "stdout"
        }
      ]
    },
    {
      "cell_type": "code",
      "metadata": {
        "id": "8i1tHYXhps2N",
        "colab_type": "code",
        "colab": {
          "base_uri": "https://localhost:8080/",
          "height": 541
        },
        "outputId": "3222eeda-1023-4308-e5fa-ee51efca5bd9"
      },
      "source": [
        "# Plot results\n",
        "import matplotlib.pyplot as plt\n",
        "\n",
        "def plot_graphs(history, string):\n",
        "  plt.plot(history.history[string])\n",
        "  plt.plot(history.history['val_'+string])\n",
        "  plt.xlabel(\"Epochs\")\n",
        "  plt.ylabel(string)\n",
        "  plt.legend([string, 'val_'+string])\n",
        "  plt.show()\n",
        "  \n",
        "plot_graphs(history, \"accuracy\")\n",
        "plot_graphs(history, \"loss\")"
      ],
      "execution_count": 33,
      "outputs": [
        {
          "output_type": "display_data",
          "data": {
            "image/png": "[encoded data removed]",
            "text/plain": [
              "<Figure size 432x288 with 1 Axes>"
            ]
          },
          "metadata": {
            "tags": [],
            "needs_background": "light"
          }
        },
        {
          "output_type": "display_data",
          "data": {
            "image/png": "[encoded data removed]",
            "text/plain": [
              "<Figure size 432x288 with 1 Axes>"
            ]
          },
          "metadata": {
            "tags": [],
            "needs_background": "light"
          }
        }
      ]
    },
    {
      "cell_type": "code",
      "metadata": {
        "id": "lgV_Sq_Mxwop",
        "colab_type": "code",
        "colab": {
          "base_uri": "https://localhost:8080/",
          "height": 90
        },
        "outputId": "041762f6-e3e4-4c1d-c6cd-805220ad765f"
      },
      "source": [
        "# Convert word_index form to the form {5: 'mother', 6: 'father'}\n",
        "reverse_word_index = dict([(value, key) for (key, value) in word_index.items()])\n",
        "\n",
        "def decode_sentence(text):\n",
        "    return ' '.join([reverse_word_index.get(i, '?') for i in text])\n",
        "\n",
        "print(decode_sentence(training_padded[0]))\n",
        "print(training_sentences[2])\n",
        "print(labels[2])"
      ],
      "execution_count": 34,
      "outputs": [
        {
          "output_type": "stream",
          "text": [
            "former <OOV> store clerk sues over secret 'black <OOV> for minority shoppers ? ? ? ? ? ? ? ? ? ? ? ? ? ? ? ? ? ? ? ? ? ? ? ? ? ? ? ? ? ? ? ? ? ? ? ? ? ? ? ? ? ? ? ? ? ? ? ? ? ? ? ? ? ? ? ? ? ? ? ? ? ? ? ? ? ? ? ? ? ? ? ? ? ? ? ? ? ? ? ? ? ? ? ? ? ? ? ?\n",
            "mom starting to fear son's web series closest thing she will have to grandchild\n",
            "1\n"
          ],
          "name": "stdout"
        }
      ]
    },
    {
      "cell_type": "code",
      "metadata": {
        "id": "rfaWrsGQqEze",
        "colab_type": "code",
        "colab": {
          "base_uri": "https://localhost:8080/",
          "height": 34
        },
        "outputId": "383dd290-4cca-45ea-ef3e-ccb15752dae3"
      },
      "source": [
        "# NN weight's shapes\n",
        "e = model.layers[0]\n",
        "weights = e.get_weights()[0]  # shape: (vocab_size, embedding_dim)\n",
        "print(weights.shape)"
      ],
      "execution_count": 35,
      "outputs": [
        {
          "output_type": "stream",
          "text": [
            "(10000, 16)\n"
          ],
          "name": "stdout"
        }
      ]
    },
    {
      "cell_type": "code",
      "metadata": {
        "id": "QeDLd8HQyZ2Y",
        "colab_type": "code",
        "colab": {}
      },
      "source": [
        "import io\n",
        "\n",
        "out_v = io.open('vecs.tsv', 'w', encoding='utf-8')\n",
        "out_m = io.open('meta.tsv', 'w', encoding='utf-8')\n",
        "\n",
        "for word_num in range(1, vocab_size):\n",
        "  word = reverse_word_index[word_num]\n",
        "  embeddings = weights[word_num]\n",
        "  out_m.write(word + \"\\n\")\n",
        "  out_v.write('\\t'.join([str(x) for x in embeddings]) + \"\\n\")\n",
        "  \n",
        "out_v.close()\n",
        "out_m.close()"
      ],
      "execution_count": 0,
      "outputs": []
    },
    {
      "cell_type": "code",
      "metadata": {
        "id": "CAo_lp-Xyk1X",
        "colab_type": "code",
        "colab": {}
      },
      "source": [
        "# Download the value of the 16 dimensions per word as \"vecs.tsv\" and actual word\n",
        "# associated with that as \"meta.tsv\"\n",
        "try:\n",
        "  from google.colab import files\n",
        "except ImportError:\n",
        "  pass\n",
        "else:\n",
        "  files.download('vecs.tsv')\n",
        "  files.download('meta.tsv')\n",
        "\n",
        "# Load tsv files to projector.tensorflow.org and can see mapping of words\n",
        "# into the vector spaces"
      ],
      "execution_count": 0,
      "outputs": []
    },
    {
      "cell_type": "code",
      "metadata": {
        "id": "7uF82hX0ynMv",
        "colab_type": "code",
        "colab": {
          "base_uri": "https://localhost:8080/",
          "height": 52
        },
        "outputId": "198cc940-f023-4174-a494-d4d666fe208b"
      },
      "source": [
        "sentence = [\"granny starting to fear spiders in the garden might be real\", \"game of thrones season finale showing this sunday night\"]\n",
        "\n",
        "sequences = tokenizer.texts_to_sequences(sentence)\n",
        "padded = pad_sequences(sequences, maxlen=max_length, padding=padding_type, truncating=trunc_type)\n",
        "\n",
        "print(model.predict(padded))"
      ],
      "execution_count": 38,
      "outputs": [
        {
          "output_type": "stream",
          "text": [
            "[[9.8176116e-01]\n",
            " [1.8212861e-05]]\n"
          ],
          "name": "stdout"
        }
      ]
    }
  ]
}