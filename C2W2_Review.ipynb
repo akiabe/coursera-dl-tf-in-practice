{
  "nbformat": 4,
  "nbformat_minor": 0,
  "metadata": {
    "colab": {
      "name": "C2W2_Review.ipynb",
      "provenance": [],
      "authorship_tag": "ABX9TyMX5qEWvM5kY9q5qoo/f4Ke",
      "include_colab_link": true
    },
    "kernelspec": {
      "name": "python3",
      "display_name": "Python 3"
    },
    "accelerator": "GPU"
  },
  "cells": [
    {
      "cell_type": "markdown",
      "metadata": {
        "id": "view-in-github",
        "colab_type": "text"
      },
      "source": [
        "<a href=\"https://colab.research.google.com/github/akiabe/coursera-dl-tf-in-practice/blob/master/C2W2_Review.ipynb\" target=\"_parent\"><img src=\"https://colab.research.google.com/assets/colab-badge.svg\" alt=\"Open In Colab\"/></a>"
      ]
    },
    {
      "cell_type": "code",
      "metadata": {
        "id": "381-Oyzp0tJa",
        "colab_type": "code",
        "colab": {
          "base_uri": "https://localhost:8080/",
          "height": 212
        },
        "outputId": "6cfb1e59-e60a-4d6f-e480-f189ec702077"
      },
      "source": [
        "# Download example data\n",
        "!wget --no-check-certificate \\\n",
        "  https://storage.googleapis.com/mledu-datasets/cats_and_dogs_filtered.zip \\\n",
        "  -O /tmp/cats_and_dogs_filtered.zip"
      ],
      "execution_count": 23,
      "outputs": [
        {
          "output_type": "stream",
          "text": [
            "--2020-06-07 04:49:10--  https://storage.googleapis.com/mledu-datasets/cats_and_dogs_filtered.zip\n",
            "Resolving storage.googleapis.com (storage.googleapis.com)... 172.217.204.128, 2607:f8b0:400c:c02::80\n",
            "Connecting to storage.googleapis.com (storage.googleapis.com)|172.217.204.128|:443... connected.\n",
            "HTTP request sent, awaiting response... 200 OK\n",
            "Length: 68606236 (65M) [application/zip]\n",
            "Saving to: ‘/tmp/cats_and_dogs_filtered.zip’\n",
            "\n",
            "/tmp/cats_and_dogs_ 100%[===================>]  65.43M   128MB/s    in 0.5s    \n",
            "\n",
            "2020-06-07 04:49:10 (128 MB/s) - ‘/tmp/cats_and_dogs_filtered.zip’ saved [68606236/68606236]\n",
            "\n"
          ],
          "name": "stdout"
        }
      ]
    },
    {
      "cell_type": "code",
      "metadata": {
        "id": "ykv_0Crj2UWi",
        "colab_type": "code",
        "colab": {}
      },
      "source": [
        "# Extract zip files\n",
        "import os\n",
        "import zipfile\n",
        "\n",
        "# Files PATH\n",
        "local_zip = '/tmp/cats_and_dogs_filtered.zip'\n",
        "\n",
        "# Extract zipfiles\n",
        "zip_ref = zipfile.ZipFile(local_zip, 'r')\n",
        "zip_ref.extractall('/tmp')\n",
        "zip_ref.close()"
      ],
      "execution_count": 0,
      "outputs": []
    },
    {
      "cell_type": "code",
      "metadata": {
        "id": "3Gdc1yDS4tF4",
        "colab_type": "code",
        "colab": {}
      },
      "source": [
        "# Image file path\n",
        "base_dir = '/tmp/cats_and_dogs_filtered'\n",
        "\n",
        "train_dir = os.path.join(base_dir, 'train')\n",
        "validation_dir = os.path.join(base_dir, 'validation')\n",
        "\n",
        "train_cats_dir = os.path.join(train_dir, 'cats')\n",
        "train_dogs_dir = os.path.join(train_dir, 'dogs')\n",
        "validation_cats_dir = os.path.join(validation_dir, 'cats')\n",
        "validation_dogs_dir = os.path.join(validation_dir, 'dogs')"
      ],
      "execution_count": 0,
      "outputs": []
    },
    {
      "cell_type": "code",
      "metadata": {
        "id": "rIOGmrkjCMlB",
        "colab_type": "code",
        "colab": {
          "base_uri": "https://localhost:8080/",
          "height": 72
        },
        "outputId": "f4eeed9b-e6d6-4ab6-c271-1b06e0862b87"
      },
      "source": [
        "# Check filenames in the train directory\n",
        "train_cat_fnames = os.listdir(train_cats_dir)\n",
        "train_dog_fnames = os.listdir(train_dogs_dir)\n",
        "\n",
        "print(train_cat_fnames[:10])\n",
        "print(train_dog_fnames[:10])"
      ],
      "execution_count": 26,
      "outputs": [
        {
          "output_type": "stream",
          "text": [
            "['cat.971.jpg', 'cat.135.jpg', 'cat.864.jpg', 'cat.467.jpg', 'cat.888.jpg', 'cat.401.jpg', 'cat.482.jpg', 'cat.865.jpg', 'cat.280.jpg', 'cat.248.jpg']\n",
            "['dog.290.jpg', 'dog.303.jpg', 'dog.914.jpg', 'dog.592.jpg', 'dog.517.jpg', 'dog.381.jpg', 'dog.294.jpg', 'dog.733.jpg', 'dog.888.jpg', 'dog.188.jpg']\n"
          ],
          "name": "stdout"
        }
      ]
    },
    {
      "cell_type": "code",
      "metadata": {
        "id": "9zhfekfH4w1H",
        "colab_type": "code",
        "colab": {
          "base_uri": "https://localhost:8080/",
          "height": 87
        },
        "outputId": "7dca7ad5-445b-437e-8785-c9c32a29e04e"
      },
      "source": [
        "# Check the file numbers\n",
        "print(\"train casts file numbers :\", len(os.listdir(train_cats_dir)))\n",
        "print(\"train dogs file numbers :\", len(os.listdir(train_dogs_dir)))\n",
        "print(\"validation cats file numbers :\", len(os.listdir(validation_cats_dir)))\n",
        "print(\"validation dogs file numbers :\", len(os.listdir(validation_dogs_dir)))"
      ],
      "execution_count": 27,
      "outputs": [
        {
          "output_type": "stream",
          "text": [
            "train casts file numbers : 1000\n",
            "train dogs file numbers : 1000\n",
            "validation cats file numbers : 500\n",
            "validation dogs file numbers : 500\n"
          ],
          "name": "stdout"
        }
      ]
    },
    {
      "cell_type": "code",
      "metadata": {
        "id": "X6rbvwmm9bii",
        "colab_type": "code",
        "colab": {}
      },
      "source": [
        "import tensorflow as tf"
      ],
      "execution_count": 0,
      "outputs": []
    },
    {
      "cell_type": "code",
      "metadata": {
        "id": "C0d24nCT-AfH",
        "colab_type": "code",
        "colab": {
          "base_uri": "https://localhost:8080/",
          "height": 52
        },
        "outputId": "d2cb8f76-46ac-4330-ec4e-30af0fc33524"
      },
      "source": [
        "# Data preprocessing\n",
        "from tensorflow.keras.preprocessing.image import ImageDataGenerator\n",
        "\n",
        "# Data preprocess by normalize the pixel values to be in the [0, 1] range\n",
        "train_datagen = ImageDataGenerator(\n",
        "    rescale=1/255,\n",
        "    rotation_range=40,\n",
        "    width_shift_range=0.2,\n",
        "    height_shift_range=0.2,\n",
        "    shear_range=0.2,\n",
        "    zoom_range=0.2,\n",
        "    horizontal_flip=True,\n",
        "    fill_mode='nearest'\n",
        ")\n",
        "\n",
        "validation_datagen = ImageDataGenerator(rescale=1/255)\n",
        "\n",
        "# Flow training images in batches of 20 using train_datagen generator\n",
        "train_generator = train_datagen.flow_from_directory(\n",
        "    train_dir,\n",
        "    target_size=(150, 150),\n",
        "    batch_size=20,\n",
        "    class_mode='binary'\n",
        ")\n",
        "\n",
        "# Flow validation images in batches of 20 using test_datagen generator\n",
        "validation_generator = validation_datagen.flow_from_directory(\n",
        "    validation_dir,\n",
        "    target_size=(150, 150),\n",
        "    batch_size=20,\n",
        "    class_mode='binary'\n",
        ")"
      ],
      "execution_count": 29,
      "outputs": [
        {
          "output_type": "stream",
          "text": [
            "Found 2000 images belonging to 2 classes.\n",
            "Found 1000 images belonging to 2 classes.\n"
          ],
          "name": "stdout"
        }
      ]
    },
    {
      "cell_type": "code",
      "metadata": {
        "id": "ec3WV6N3_Dbz",
        "colab_type": "code",
        "colab": {}
      },
      "source": [
        "# Define callbacks\n",
        "class myCallback(tf.keras.callbacks.Callback):\n",
        "  def on_epoch_end(self, epoch, logs={}):\n",
        "    if(logs.get('accuracy')>0.99):\n",
        "      print(\"\\nReached 99% accuracy so cancelling training!\")\n",
        "      self.model.stop_training = True\n",
        "\n",
        "callbacks = myCallback()"
      ],
      "execution_count": 0,
      "outputs": []
    },
    {
      "cell_type": "code",
      "metadata": {
        "id": "hVQEDKM5_3Vj",
        "colab_type": "code",
        "colab": {
          "base_uri": "https://localhost:8080/",
          "height": 478
        },
        "outputId": "b78c3381-b53d-49e4-848a-92501a363684"
      },
      "source": [
        "# Model\n",
        "model = tf.keras.models.Sequential([\n",
        "    tf.keras.layers.Conv2D(32, (3,3), activation='relu', input_shape=(150, 150, 3)),\n",
        "    tf.keras.layers.MaxPooling2D(2,2),\n",
        "    \n",
        "    tf.keras.layers.Conv2D(64, (3,3), activation='relu'),\n",
        "    tf.keras.layers.MaxPooling2D(2,2), \n",
        "    \n",
        "    tf.keras.layers.Conv2D(128, (3,3), activation='relu'), \n",
        "    tf.keras.layers.MaxPooling2D(2,2),\n",
        "    \n",
        "    tf.keras.layers.Flatten(), \n",
        "    tf.keras.layers.Dense(512, activation='relu'), \n",
        "    tf.keras.layers.Dense(1, activation='sigmoid')  \n",
        "])\n",
        "\n",
        "model.summary()"
      ],
      "execution_count": 34,
      "outputs": [
        {
          "output_type": "stream",
          "text": [
            "Model: \"sequential_3\"\n",
            "_________________________________________________________________\n",
            "Layer (type)                 Output Shape              Param #   \n",
            "=================================================================\n",
            "conv2d_9 (Conv2D)            (None, 148, 148, 32)      896       \n",
            "_________________________________________________________________\n",
            "max_pooling2d_9 (MaxPooling2 (None, 74, 74, 32)        0         \n",
            "_________________________________________________________________\n",
            "conv2d_10 (Conv2D)           (None, 72, 72, 64)        18496     \n",
            "_________________________________________________________________\n",
            "max_pooling2d_10 (MaxPooling (None, 36, 36, 64)        0         \n",
            "_________________________________________________________________\n",
            "conv2d_11 (Conv2D)           (None, 34, 34, 128)       73856     \n",
            "_________________________________________________________________\n",
            "max_pooling2d_11 (MaxPooling (None, 17, 17, 128)       0         \n",
            "_________________________________________________________________\n",
            "flatten_3 (Flatten)          (None, 36992)             0         \n",
            "_________________________________________________________________\n",
            "dense_6 (Dense)              (None, 512)               18940416  \n",
            "_________________________________________________________________\n",
            "dense_7 (Dense)              (None, 1)                 513       \n",
            "=================================================================\n",
            "Total params: 19,034,177\n",
            "Trainable params: 19,034,177\n",
            "Non-trainable params: 0\n",
            "_________________________________________________________________\n"
          ],
          "name": "stdout"
        }
      ]
    },
    {
      "cell_type": "code",
      "metadata": {
        "id": "LEU2aTGxAEvz",
        "colab_type": "code",
        "colab": {}
      },
      "source": [
        "# Optimizer\n",
        "from tensorflow.keras.optimizers import RMSprop\n",
        "\n",
        "model.compile(optimizer=RMSprop(lr=0.001),\n",
        "              loss='binary_crossentropy',\n",
        "              metrics=['accuracy']   \n",
        ")"
      ],
      "execution_count": 0,
      "outputs": []
    },
    {
      "cell_type": "code",
      "metadata": {
        "id": "0IYSItFIAMKr",
        "colab_type": "code",
        "colab": {
          "base_uri": "https://localhost:8080/",
          "height": 1000
        },
        "outputId": "e2940c9b-b1b5-4b64-9004-8655b8339191"
      },
      "source": [
        "# Training the model\n",
        "history = model.fit(\n",
        "    train_generator,\n",
        "    steps_per_epoch=100, # batch_size * steps_per_epoch = Images\n",
        "    epochs=100,\n",
        "    verbose=2,\n",
        "    validation_data = validation_generator,\n",
        "    validation_steps=50,\n",
        "    callbacks=[callbacks]\n",
        ")"
      ],
      "execution_count": 36,
      "outputs": [
        {
          "output_type": "stream",
          "text": [
            "Epoch 1/100\n",
            "100/100 - 16s - loss: 0.7922 - accuracy: 0.5195 - val_loss: 0.6870 - val_accuracy: 0.5090\n",
            "Epoch 2/100\n",
            "100/100 - 16s - loss: 0.6915 - accuracy: 0.5595 - val_loss: 0.6411 - val_accuracy: 0.6600\n",
            "Epoch 3/100\n",
            "100/100 - 16s - loss: 0.6570 - accuracy: 0.6185 - val_loss: 0.6318 - val_accuracy: 0.6280\n",
            "Epoch 4/100\n",
            "100/100 - 16s - loss: 0.6371 - accuracy: 0.6515 - val_loss: 0.6346 - val_accuracy: 0.6100\n",
            "Epoch 5/100\n",
            "100/100 - 16s - loss: 0.6304 - accuracy: 0.6455 - val_loss: 0.5986 - val_accuracy: 0.6890\n",
            "Epoch 6/100\n",
            "100/100 - 16s - loss: 0.6232 - accuracy: 0.6560 - val_loss: 0.5874 - val_accuracy: 0.6870\n",
            "Epoch 7/100\n",
            "100/100 - 16s - loss: 0.6105 - accuracy: 0.6785 - val_loss: 0.5873 - val_accuracy: 0.6800\n",
            "Epoch 8/100\n",
            "100/100 - 16s - loss: 0.6014 - accuracy: 0.6860 - val_loss: 0.5835 - val_accuracy: 0.6900\n",
            "Epoch 9/100\n",
            "100/100 - 16s - loss: 0.5953 - accuracy: 0.6825 - val_loss: 0.5344 - val_accuracy: 0.7300\n",
            "Epoch 10/100\n",
            "100/100 - 16s - loss: 0.5877 - accuracy: 0.6915 - val_loss: 0.5429 - val_accuracy: 0.7250\n",
            "Epoch 11/100\n",
            "100/100 - 16s - loss: 0.5901 - accuracy: 0.7235 - val_loss: 0.7097 - val_accuracy: 0.6680\n",
            "Epoch 12/100\n",
            "100/100 - 16s - loss: 0.5758 - accuracy: 0.7050 - val_loss: 0.5649 - val_accuracy: 0.7180\n",
            "Epoch 13/100\n",
            "100/100 - 16s - loss: 0.5724 - accuracy: 0.7060 - val_loss: 0.5386 - val_accuracy: 0.7260\n",
            "Epoch 14/100\n",
            "100/100 - 16s - loss: 0.5780 - accuracy: 0.7110 - val_loss: 0.5658 - val_accuracy: 0.6920\n",
            "Epoch 15/100\n",
            "100/100 - 16s - loss: 0.5741 - accuracy: 0.7135 - val_loss: 0.5160 - val_accuracy: 0.7480\n",
            "Epoch 16/100\n",
            "100/100 - 17s - loss: 0.5659 - accuracy: 0.7045 - val_loss: 0.4911 - val_accuracy: 0.7600\n",
            "Epoch 17/100\n",
            "100/100 - 17s - loss: 0.5506 - accuracy: 0.7170 - val_loss: 0.4967 - val_accuracy: 0.7660\n",
            "Epoch 18/100\n",
            "100/100 - 17s - loss: 0.5639 - accuracy: 0.7310 - val_loss: 0.5091 - val_accuracy: 0.7510\n",
            "Epoch 19/100\n",
            "100/100 - 17s - loss: 0.5420 - accuracy: 0.7315 - val_loss: 0.5396 - val_accuracy: 0.7200\n",
            "Epoch 20/100\n",
            "100/100 - 16s - loss: 0.5511 - accuracy: 0.7215 - val_loss: 0.5234 - val_accuracy: 0.7400\n",
            "Epoch 21/100\n",
            "100/100 - 16s - loss: 0.5384 - accuracy: 0.7330 - val_loss: 0.5282 - val_accuracy: 0.7300\n",
            "Epoch 22/100\n",
            "100/100 - 16s - loss: 0.5454 - accuracy: 0.7275 - val_loss: 0.5413 - val_accuracy: 0.7410\n",
            "Epoch 23/100\n",
            "100/100 - 16s - loss: 0.5449 - accuracy: 0.7420 - val_loss: 0.4887 - val_accuracy: 0.7650\n",
            "Epoch 24/100\n",
            "100/100 - 17s - loss: 0.5257 - accuracy: 0.7460 - val_loss: 0.4827 - val_accuracy: 0.7770\n",
            "Epoch 25/100\n",
            "100/100 - 16s - loss: 0.5281 - accuracy: 0.7485 - val_loss: 0.6132 - val_accuracy: 0.7150\n",
            "Epoch 26/100\n",
            "100/100 - 16s - loss: 0.5250 - accuracy: 0.7490 - val_loss: 0.5048 - val_accuracy: 0.7710\n",
            "Epoch 27/100\n",
            "100/100 - 16s - loss: 0.5374 - accuracy: 0.7425 - val_loss: 0.4789 - val_accuracy: 0.7760\n",
            "Epoch 28/100\n",
            "100/100 - 16s - loss: 0.5144 - accuracy: 0.7520 - val_loss: 0.4911 - val_accuracy: 0.7600\n",
            "Epoch 29/100\n",
            "100/100 - 17s - loss: 0.5099 - accuracy: 0.7630 - val_loss: 0.4798 - val_accuracy: 0.7630\n",
            "Epoch 30/100\n",
            "100/100 - 16s - loss: 0.5195 - accuracy: 0.7545 - val_loss: 0.5675 - val_accuracy: 0.7030\n",
            "Epoch 31/100\n",
            "100/100 - 17s - loss: 0.4869 - accuracy: 0.7670 - val_loss: 0.4802 - val_accuracy: 0.7680\n",
            "Epoch 32/100\n",
            "100/100 - 17s - loss: 0.5100 - accuracy: 0.7590 - val_loss: 0.4851 - val_accuracy: 0.7580\n",
            "Epoch 33/100\n",
            "100/100 - 17s - loss: 0.5019 - accuracy: 0.7590 - val_loss: 0.4661 - val_accuracy: 0.7830\n",
            "Epoch 34/100\n",
            "100/100 - 17s - loss: 0.5022 - accuracy: 0.7620 - val_loss: 0.4751 - val_accuracy: 0.7640\n",
            "Epoch 35/100\n",
            "100/100 - 16s - loss: 0.4863 - accuracy: 0.7790 - val_loss: 0.5055 - val_accuracy: 0.7510\n",
            "Epoch 36/100\n",
            "100/100 - 16s - loss: 0.5009 - accuracy: 0.7580 - val_loss: 0.4444 - val_accuracy: 0.7930\n",
            "Epoch 37/100\n",
            "100/100 - 16s - loss: 0.4893 - accuracy: 0.7740 - val_loss: 0.4567 - val_accuracy: 0.7750\n",
            "Epoch 38/100\n",
            "100/100 - 17s - loss: 0.4942 - accuracy: 0.7680 - val_loss: 0.4700 - val_accuracy: 0.7730\n",
            "Epoch 39/100\n",
            "100/100 - 17s - loss: 0.4983 - accuracy: 0.7665 - val_loss: 0.6119 - val_accuracy: 0.7550\n",
            "Epoch 40/100\n",
            "100/100 - 17s - loss: 0.4764 - accuracy: 0.7790 - val_loss: 0.4686 - val_accuracy: 0.7760\n",
            "Epoch 41/100\n",
            "100/100 - 17s - loss: 0.4768 - accuracy: 0.7800 - val_loss: 0.5155 - val_accuracy: 0.7260\n",
            "Epoch 42/100\n",
            "100/100 - 17s - loss: 0.4972 - accuracy: 0.7815 - val_loss: 0.4633 - val_accuracy: 0.7670\n",
            "Epoch 43/100\n",
            "100/100 - 17s - loss: 0.4899 - accuracy: 0.7650 - val_loss: 0.4555 - val_accuracy: 0.7950\n",
            "Epoch 44/100\n",
            "100/100 - 17s - loss: 0.4992 - accuracy: 0.7685 - val_loss: 0.4547 - val_accuracy: 0.7970\n",
            "Epoch 45/100\n",
            "100/100 - 17s - loss: 0.4766 - accuracy: 0.7895 - val_loss: 0.4679 - val_accuracy: 0.7890\n",
            "Epoch 46/100\n",
            "100/100 - 16s - loss: 0.4925 - accuracy: 0.7705 - val_loss: 0.7828 - val_accuracy: 0.6880\n",
            "Epoch 47/100\n",
            "100/100 - 16s - loss: 0.5089 - accuracy: 0.7705 - val_loss: 0.5236 - val_accuracy: 0.7630\n",
            "Epoch 48/100\n",
            "100/100 - 16s - loss: 0.4612 - accuracy: 0.7915 - val_loss: 0.4592 - val_accuracy: 0.7920\n",
            "Epoch 49/100\n",
            "100/100 - 16s - loss: 0.4779 - accuracy: 0.7845 - val_loss: 0.4694 - val_accuracy: 0.7740\n",
            "Epoch 50/100\n",
            "100/100 - 16s - loss: 0.4701 - accuracy: 0.7780 - val_loss: 0.5472 - val_accuracy: 0.7520\n",
            "Epoch 51/100\n",
            "100/100 - 16s - loss: 0.4852 - accuracy: 0.7705 - val_loss: 0.4529 - val_accuracy: 0.7980\n",
            "Epoch 52/100\n",
            "100/100 - 16s - loss: 0.4750 - accuracy: 0.7715 - val_loss: 0.4722 - val_accuracy: 0.7860\n",
            "Epoch 53/100\n",
            "100/100 - 16s - loss: 0.4739 - accuracy: 0.7785 - val_loss: 0.4496 - val_accuracy: 0.7980\n",
            "Epoch 54/100\n",
            "100/100 - 16s - loss: 0.4752 - accuracy: 0.7770 - val_loss: 0.4450 - val_accuracy: 0.8030\n",
            "Epoch 55/100\n",
            "100/100 - 16s - loss: 0.4617 - accuracy: 0.7915 - val_loss: 0.4848 - val_accuracy: 0.7780\n",
            "Epoch 56/100\n",
            "100/100 - 16s - loss: 0.4718 - accuracy: 0.7920 - val_loss: 0.4642 - val_accuracy: 0.7940\n",
            "Epoch 57/100\n",
            "100/100 - 16s - loss: 0.4566 - accuracy: 0.7910 - val_loss: 0.4983 - val_accuracy: 0.7700\n",
            "Epoch 58/100\n",
            "100/100 - 16s - loss: 0.4843 - accuracy: 0.7785 - val_loss: 0.4921 - val_accuracy: 0.7930\n",
            "Epoch 59/100\n",
            "100/100 - 16s - loss: 0.4560 - accuracy: 0.7990 - val_loss: 0.4491 - val_accuracy: 0.8040\n",
            "Epoch 60/100\n",
            "100/100 - 16s - loss: 0.4542 - accuracy: 0.7895 - val_loss: 0.4930 - val_accuracy: 0.7640\n",
            "Epoch 61/100\n",
            "100/100 - 16s - loss: 0.4548 - accuracy: 0.7990 - val_loss: 0.5351 - val_accuracy: 0.7510\n",
            "Epoch 62/100\n",
            "100/100 - 16s - loss: 0.4865 - accuracy: 0.7895 - val_loss: 0.4348 - val_accuracy: 0.8070\n",
            "Epoch 63/100\n",
            "100/100 - 16s - loss: 0.4664 - accuracy: 0.7775 - val_loss: 0.4694 - val_accuracy: 0.7740\n",
            "Epoch 64/100\n",
            "100/100 - 16s - loss: 0.4683 - accuracy: 0.7980 - val_loss: 0.4366 - val_accuracy: 0.8190\n",
            "Epoch 65/100\n",
            "100/100 - 16s - loss: 0.4313 - accuracy: 0.8070 - val_loss: 0.4449 - val_accuracy: 0.7920\n",
            "Epoch 66/100\n",
            "100/100 - 16s - loss: 0.4595 - accuracy: 0.7905 - val_loss: 0.4254 - val_accuracy: 0.8070\n",
            "Epoch 67/100\n",
            "100/100 - 16s - loss: 0.4559 - accuracy: 0.7995 - val_loss: 0.4356 - val_accuracy: 0.7920\n",
            "Epoch 68/100\n",
            "100/100 - 16s - loss: 0.4623 - accuracy: 0.7990 - val_loss: 0.5154 - val_accuracy: 0.7990\n",
            "Epoch 69/100\n",
            "100/100 - 16s - loss: 0.4630 - accuracy: 0.7900 - val_loss: 0.4174 - val_accuracy: 0.8260\n",
            "Epoch 70/100\n",
            "100/100 - 16s - loss: 0.4558 - accuracy: 0.8005 - val_loss: 0.6157 - val_accuracy: 0.7150\n",
            "Epoch 71/100\n",
            "100/100 - 16s - loss: 0.4571 - accuracy: 0.7955 - val_loss: 0.5688 - val_accuracy: 0.7250\n",
            "Epoch 72/100\n",
            "100/100 - 16s - loss: 0.4575 - accuracy: 0.7915 - val_loss: 0.4495 - val_accuracy: 0.7990\n",
            "Epoch 73/100\n",
            "100/100 - 16s - loss: 0.4333 - accuracy: 0.7990 - val_loss: 0.4397 - val_accuracy: 0.8060\n",
            "Epoch 74/100\n",
            "100/100 - 16s - loss: 0.4472 - accuracy: 0.8130 - val_loss: 0.4844 - val_accuracy: 0.7580\n",
            "Epoch 75/100\n",
            "100/100 - 16s - loss: 0.4522 - accuracy: 0.7980 - val_loss: 0.4434 - val_accuracy: 0.8020\n",
            "Epoch 76/100\n",
            "100/100 - 16s - loss: 0.4631 - accuracy: 0.7960 - val_loss: 0.5007 - val_accuracy: 0.7830\n",
            "Epoch 77/100\n",
            "100/100 - 16s - loss: 0.4519 - accuracy: 0.8055 - val_loss: 0.4200 - val_accuracy: 0.8200\n",
            "Epoch 78/100\n",
            "100/100 - 16s - loss: 0.4392 - accuracy: 0.8050 - val_loss: 0.5510 - val_accuracy: 0.7930\n",
            "Epoch 79/100\n",
            "100/100 - 16s - loss: 0.4550 - accuracy: 0.8010 - val_loss: 0.5317 - val_accuracy: 0.7700\n",
            "Epoch 80/100\n",
            "100/100 - 16s - loss: 0.4538 - accuracy: 0.7960 - val_loss: 0.5141 - val_accuracy: 0.7650\n",
            "Epoch 81/100\n",
            "100/100 - 16s - loss: 0.4521 - accuracy: 0.7960 - val_loss: 0.4214 - val_accuracy: 0.8180\n",
            "Epoch 82/100\n",
            "100/100 - 16s - loss: 0.4452 - accuracy: 0.7925 - val_loss: 0.5664 - val_accuracy: 0.7300\n",
            "Epoch 83/100\n",
            "100/100 - 16s - loss: 0.4738 - accuracy: 0.8020 - val_loss: 0.4867 - val_accuracy: 0.8120\n",
            "Epoch 84/100\n",
            "100/100 - 16s - loss: 0.4345 - accuracy: 0.8045 - val_loss: 0.4970 - val_accuracy: 0.7790\n",
            "Epoch 85/100\n",
            "100/100 - 16s - loss: 0.4550 - accuracy: 0.8080 - val_loss: 0.4811 - val_accuracy: 0.8040\n",
            "Epoch 86/100\n",
            "100/100 - 16s - loss: 0.4460 - accuracy: 0.8050 - val_loss: 0.4668 - val_accuracy: 0.7870\n",
            "Epoch 87/100\n",
            "100/100 - 16s - loss: 0.4560 - accuracy: 0.8020 - val_loss: 0.4177 - val_accuracy: 0.8190\n",
            "Epoch 88/100\n",
            "100/100 - 16s - loss: 0.4540 - accuracy: 0.8035 - val_loss: 0.4548 - val_accuracy: 0.8030\n",
            "Epoch 89/100\n",
            "100/100 - 16s - loss: 0.4493 - accuracy: 0.7935 - val_loss: 0.4408 - val_accuracy: 0.8120\n",
            "Epoch 90/100\n",
            "100/100 - 16s - loss: 0.4211 - accuracy: 0.8085 - val_loss: 0.4714 - val_accuracy: 0.8100\n",
            "Epoch 91/100\n",
            "100/100 - 16s - loss: 0.4356 - accuracy: 0.8075 - val_loss: 0.4163 - val_accuracy: 0.8250\n",
            "Epoch 92/100\n",
            "100/100 - 16s - loss: 0.4096 - accuracy: 0.8175 - val_loss: 0.5008 - val_accuracy: 0.7810\n",
            "Epoch 93/100\n",
            "100/100 - 16s - loss: 0.4424 - accuracy: 0.8060 - val_loss: 0.4304 - val_accuracy: 0.8270\n",
            "Epoch 94/100\n",
            "100/100 - 16s - loss: 0.4512 - accuracy: 0.8080 - val_loss: 0.5331 - val_accuracy: 0.7990\n",
            "Epoch 95/100\n",
            "100/100 - 16s - loss: 0.4563 - accuracy: 0.8035 - val_loss: 0.5903 - val_accuracy: 0.7490\n",
            "Epoch 96/100\n",
            "100/100 - 16s - loss: 0.4344 - accuracy: 0.8190 - val_loss: 0.4444 - val_accuracy: 0.7920\n",
            "Epoch 97/100\n",
            "100/100 - 16s - loss: 0.4318 - accuracy: 0.8055 - val_loss: 0.4416 - val_accuracy: 0.8070\n",
            "Epoch 98/100\n",
            "100/100 - 16s - loss: 0.4168 - accuracy: 0.8130 - val_loss: 0.5028 - val_accuracy: 0.7900\n",
            "Epoch 99/100\n",
            "100/100 - 16s - loss: 0.4419 - accuracy: 0.8035 - val_loss: 0.4706 - val_accuracy: 0.7930\n",
            "Epoch 100/100\n",
            "100/100 - 16s - loss: 0.4387 - accuracy: 0.8160 - val_loss: 0.7033 - val_accuracy: 0.7180\n"
          ],
          "name": "stdout"
        }
      ]
    },
    {
      "cell_type": "code",
      "metadata": {
        "id": "h8NWJA7eBf0g",
        "colab_type": "code",
        "colab": {
          "base_uri": "https://localhost:8080/",
          "height": 544
        },
        "outputId": "69bd18d3-f4b3-4877-c986-085b1903026b"
      },
      "source": [
        "# Plotting accuracy\n",
        "import matplotlib.pyplot as plt\n",
        "\n",
        "acc = history.history['accuracy']\n",
        "val_acc = history.history['val_accuracy']\n",
        "loss = history.history['loss']\n",
        "val_loss = history.history['val_loss']\n",
        "\n",
        "epochs = range(len(acc))\n",
        "\n",
        "plt.plot(epochs, acc, 'bo', label='Training accuracy')\n",
        "plt.plot(epochs, val_acc, 'b', label='Validation accuracy')\n",
        "plt.title('Training and validation accuracy')\n",
        "\n",
        "plt.figure()\n",
        "\n",
        "plt.plot(epochs, loss, 'bo', label='Training Loss')\n",
        "plt.plot(epochs, val_loss, 'b', label='Validation Loss')\n",
        "plt.title('Training and validation loss')\n",
        "plt.legend()\n",
        "\n",
        "plt.show()"
      ],
      "execution_count": 37,
      "outputs": [
        {
          "output_type": "display_data",
          "data": {
            "image/png": "[encoded data removed]",
            "text/plain": [
              "<Figure size 432x288 with 1 Axes>"
            ]
          },
          "metadata": {
            "tags": [],
            "needs_background": "light"
          }
        },
        {
          "output_type": "display_data",
          "data": {
            "image/png": "[encoded data removed]",
            "text/plain": [
              "<Figure size 432x288 with 1 Axes>"
            ]
          },
          "metadata": {
            "tags": [],
            "needs_background": "light"
          }
        }
      ]
    },
    {
      "cell_type": "code",
      "metadata": {
        "id": "GfbCTUPSQM5t",
        "colab_type": "code",
        "colab": {}
      },
      "source": [
        ""
      ],
      "execution_count": 0,
      "outputs": []
    }
  ]
}