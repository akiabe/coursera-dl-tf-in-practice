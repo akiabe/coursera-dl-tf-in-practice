{
  "nbformat": 4,
  "nbformat_minor": 0,
  "metadata": {
    "colab": {
      "name": "C1W2_Kaggle_Dogs_vs_Cats_ImageAugmentation.ipynb",
      "provenance": [],
      "authorship_tag": "ABX9TyNhxPKlrw4DROlqa4cgSV+5",
      "include_colab_link": true
    },
    "kernelspec": {
      "name": "python3",
      "display_name": "Python 3"
    },
    "accelerator": "GPU"
  },
  "cells": [
    {
      "cell_type": "markdown",
      "metadata": {
        "id": "view-in-github",
        "colab_type": "text"
      },
      "source": [
        "<a href=\"https://colab.research.google.com/github/akiabe/coursera-dl-tf-in-practice/blob/master/C1W2_Kaggle_Dogs_vs_Cats_ImageAugmentation.ipynb\" target=\"_parent\"><img src=\"https://colab.research.google.com/assets/colab-badge.svg\" alt=\"Open In Colab\"/></a>"
      ]
    },
    {
      "cell_type": "code",
      "metadata": {
        "id": "X-8zt7SxvjEc",
        "colab_type": "code",
        "colab": {
          "base_uri": "https://localhost:8080/",
          "height": 391
        },
        "outputId": "c2c6b9b5-84d9-4292-9f16-a49250879c89"
      },
      "source": [
        "# Download example data\n",
        "!wget --no-check-certificate \\\n",
        "    https://storage.googleapis.com/laurencemoroney-blog.appspot.com/horse-or-human.zip \\\n",
        "    -O /tmp/horse-or-human.zip\n",
        "\n",
        "!wget --no-check-certificate \\\n",
        "    https://storage.googleapis.com/laurencemoroney-blog.appspot.com/validation-horse-or-human.zip \\\n",
        "    -O /tmp/validation-horse-or-human.zip"
      ],
      "execution_count": 1,
      "outputs": [
        {
          "output_type": "stream",
          "text": [
            "--2020-06-02 02:49:04--  https://storage.googleapis.com/laurencemoroney-blog.appspot.com/horse-or-human.zip\n",
            "Resolving storage.googleapis.com (storage.googleapis.com)... 172.217.12.240, 2607:f8b0:4004:807::2010\n",
            "Connecting to storage.googleapis.com (storage.googleapis.com)|172.217.12.240|:443... connected.\n",
            "HTTP request sent, awaiting response... 200 OK\n",
            "Length: 149574867 (143M) [application/zip]\n",
            "Saving to: ‘/tmp/horse-or-human.zip’\n",
            "\n",
            "/tmp/horse-or-human 100%[===================>] 142.65M   111MB/s    in 1.3s    \n",
            "\n",
            "2020-06-02 02:49:05 (111 MB/s) - ‘/tmp/horse-or-human.zip’ saved [149574867/149574867]\n",
            "\n",
            "--2020-06-02 02:49:06--  https://storage.googleapis.com/laurencemoroney-blog.appspot.com/validation-horse-or-human.zip\n",
            "Resolving storage.googleapis.com (storage.googleapis.com)... 172.253.63.128, 2607:f8b0:4004:810::2010\n",
            "Connecting to storage.googleapis.com (storage.googleapis.com)|172.253.63.128|:443... connected.\n",
            "HTTP request sent, awaiting response... 200 OK\n",
            "Length: 11480187 (11M) [application/zip]\n",
            "Saving to: ‘/tmp/validation-horse-or-human.zip’\n",
            "\n",
            "/tmp/validation-hor 100%[===================>]  10.95M  40.6MB/s    in 0.3s    \n",
            "\n",
            "2020-06-02 02:49:06 (40.6 MB/s) - ‘/tmp/validation-horse-or-human.zip’ saved [11480187/11480187]\n",
            "\n"
          ],
          "name": "stdout"
        }
      ]
    },
    {
      "cell_type": "code",
      "metadata": {
        "id": "f8IQgON8xpAZ",
        "colab_type": "code",
        "colab": {}
      },
      "source": [
        "# Access to the file system and unzip file\n",
        "import os\n",
        "import zipfile\n",
        "\n",
        "# # UnZip to '/tmp' directory\n",
        "local_zip = '/tmp/horse-or-human.zip'\n",
        "\n",
        "zip_ref = zipfile.ZipFile(local_zip, 'r')\n",
        "zip_ref.extractall('/tmp/horse-or-human')\n",
        "\n",
        "local_zip = '/tmp/validation-horse-or-human.zip'\n",
        "\n",
        "zip_ref = zipfile.ZipFile(local_zip, 'r')\n",
        "zip_ref.extractall('/tmp/validation-horse-or-human')\n",
        "\n",
        "zip_ref.close()"
      ],
      "execution_count": 0,
      "outputs": []
    },
    {
      "cell_type": "code",
      "metadata": {
        "id": "rkxLagGSzYet",
        "colab_type": "code",
        "colab": {}
      },
      "source": [
        "# Directory with training horse pictures\n",
        "train_horse_dir = os.path.join('/tmp/horse-or-human/horses')\n",
        "\n",
        "# Directory with training human pictures\n",
        "train_human_dir = os.path.join('/tmp/horse-or-human/humans')\n",
        "\n",
        "# Directory with training horse pictures\n",
        "validation_horse_dir = os.path.join('/tmp/validation-horse-or-human/horses')\n",
        "\n",
        "# Directory with training human pictures\n",
        "validation_human_dir = os.path.join('/tmp/validation-horse-or-human/humans')"
      ],
      "execution_count": 0,
      "outputs": []
    },
    {
      "cell_type": "code",
      "metadata": {
        "id": "yGLXl7oL3UGF",
        "colab_type": "code",
        "colab": {
          "base_uri": "https://localhost:8080/",
          "height": 105
        },
        "outputId": "7c0bdab7-c8c8-41dc-f43d-ad928195f96d"
      },
      "source": [
        "# Check filenames in the train directory\n",
        "train_horse_fnames = os.listdir(train_horse_dir)\n",
        "train_human_fnames = os.listdir(train_human_dir)\n",
        "validation_horse_fnames = os.listdir(validation_horse_dir)\n",
        "validation_human_fnames = os.listdir(validation_human_dir)\n",
        "\n",
        "print(train_horse_fnames[:10])\n",
        "print(train_human_fnames[:10])\n",
        "print(validation_horse_fnames[:10])\n",
        "print(validation_human_fnames[:10])"
      ],
      "execution_count": 4,
      "outputs": [
        {
          "output_type": "stream",
          "text": [
            "['horse03-2.png', 'horse33-5.png', 'horse26-8.png', 'horse14-2.png', 'horse37-8.png', 'horse48-4.png', 'horse21-8.png', 'horse47-8.png', 'horse14-7.png', 'horse36-9.png']\n",
            "['human14-28.png', 'human03-18.png', 'human17-06.png', 'human05-07.png', 'human06-28.png', 'human08-00.png', 'human08-20.png', 'human02-23.png', 'human12-21.png', 'human11-01.png']\n",
            "['horse4-503.png', 'horse5-018.png', 'horse2-544.png', 'horse4-232.png', 'horse5-192.png', 'horse1-224.png', 'horse2-412.png', 'horse6-345.png', 'horse5-103.png', 'horse5-275.png']\n",
            "['valhuman03-07.png', 'valhuman01-22.png', 'valhuman01-07.png', 'valhuman03-04.png', 'valhuman04-10.png', 'valhuman03-06.png', 'valhuman04-08.png', 'valhuman03-18.png', 'valhuman05-17.png', 'valhuman04-16.png']\n"
          ],
          "name": "stdout"
        }
      ]
    },
    {
      "cell_type": "code",
      "metadata": {
        "id": "popOc2fA4Ah_",
        "colab_type": "code",
        "colab": {
          "base_uri": "https://localhost:8080/",
          "height": 85
        },
        "outputId": "b21022fc-79de-4136-945e-a8231dbfe8fe"
      },
      "source": [
        "# Check total file numbers\n",
        "print('total training horse images: ', len(os.listdir(train_horse_dir)))\n",
        "print('total training human images: ', len(os.listdir(train_human_dir)))\n",
        "print('total validation horse images: ', len(os.listdir(validation_horse_dir)))\n",
        "print('total validation human images: ', len(os.listdir(validation_human_dir)))"
      ],
      "execution_count": 5,
      "outputs": [
        {
          "output_type": "stream",
          "text": [
            "total training horse images:  500\n",
            "total training human images:  527\n",
            "total validation horse images:  128\n",
            "total validation human images:  128\n"
          ],
          "name": "stdout"
        }
      ]
    },
    {
      "cell_type": "code",
      "metadata": {
        "id": "tboccTNK0J3H",
        "colab_type": "code",
        "colab": {}
      },
      "source": [
        "import tensorflow as tf"
      ],
      "execution_count": 0,
      "outputs": []
    },
    {
      "cell_type": "code",
      "metadata": {
        "id": "fHrHr_fX0TM2",
        "colab_type": "code",
        "colab": {}
      },
      "source": [
        "# Model\n",
        "model = tf.keras.models.Sequential([\n",
        "    tf.keras.layers.Conv2D(16, (3,3), activation='relu', input_shape=(300, 300, 3)),\n",
        "    tf.keras.layers.MaxPooling2D(2, 2),\n",
        "\n",
        "    tf.keras.layers.Conv2D(32, (3,3), activation='relu'),\n",
        "    tf.keras.layers.MaxPooling2D(2,2),\n",
        "    \n",
        "    tf.keras.layers.Conv2D(64, (3,3), activation='relu'),\n",
        "    tf.keras.layers.MaxPooling2D(2,2),\n",
        "    \n",
        "    tf.keras.layers.Conv2D(64, (3,3), activation='relu'),\n",
        "    tf.keras.layers.MaxPooling2D(2,2),\n",
        "    \n",
        "    tf.keras.layers.Conv2D(64, (3,3), activation='relu'),\n",
        "    tf.keras.layers.MaxPooling2D(2,2),\n",
        "    \n",
        "    tf.keras.layers.Flatten(),\n",
        "    tf.keras.layers.Dense(512, activation='relu'),\n",
        "    tf.keras.layers.Dense(1, activation='sigmoid')\n",
        "])"
      ],
      "execution_count": 0,
      "outputs": []
    },
    {
      "cell_type": "code",
      "metadata": {
        "id": "PrMXzVXm3AKS",
        "colab_type": "code",
        "colab": {
          "base_uri": "https://localhost:8080/",
          "height": 595
        },
        "outputId": "e1b68510-fb0c-42e9-d979-82b7456f3f9e"
      },
      "source": [
        "model.summary()"
      ],
      "execution_count": 8,
      "outputs": [
        {
          "output_type": "stream",
          "text": [
            "Model: \"sequential\"\n",
            "_________________________________________________________________\n",
            "Layer (type)                 Output Shape              Param #   \n",
            "=================================================================\n",
            "conv2d (Conv2D)              (None, 298, 298, 16)      448       \n",
            "_________________________________________________________________\n",
            "max_pooling2d (MaxPooling2D) (None, 149, 149, 16)      0         \n",
            "_________________________________________________________________\n",
            "conv2d_1 (Conv2D)            (None, 147, 147, 32)      4640      \n",
            "_________________________________________________________________\n",
            "max_pooling2d_1 (MaxPooling2 (None, 73, 73, 32)        0         \n",
            "_________________________________________________________________\n",
            "conv2d_2 (Conv2D)            (None, 71, 71, 64)        18496     \n",
            "_________________________________________________________________\n",
            "max_pooling2d_2 (MaxPooling2 (None, 35, 35, 64)        0         \n",
            "_________________________________________________________________\n",
            "conv2d_3 (Conv2D)            (None, 33, 33, 64)        36928     \n",
            "_________________________________________________________________\n",
            "max_pooling2d_3 (MaxPooling2 (None, 16, 16, 64)        0         \n",
            "_________________________________________________________________\n",
            "conv2d_4 (Conv2D)            (None, 14, 14, 64)        36928     \n",
            "_________________________________________________________________\n",
            "max_pooling2d_4 (MaxPooling2 (None, 7, 7, 64)          0         \n",
            "_________________________________________________________________\n",
            "flatten (Flatten)            (None, 3136)              0         \n",
            "_________________________________________________________________\n",
            "dense (Dense)                (None, 512)               1606144   \n",
            "_________________________________________________________________\n",
            "dense_1 (Dense)              (None, 1)                 513       \n",
            "=================================================================\n",
            "Total params: 1,704,097\n",
            "Trainable params: 1,704,097\n",
            "Non-trainable params: 0\n",
            "_________________________________________________________________\n"
          ],
          "name": "stdout"
        }
      ]
    },
    {
      "cell_type": "code",
      "metadata": {
        "id": "Ro6A8ErN1npA",
        "colab_type": "code",
        "colab": {}
      },
      "source": [
        "# Optimizer\n",
        "from tensorflow.keras.optimizers import RMSprop\n",
        "\n",
        "model.compile(loss='binary_crossentropy',\n",
        "              optimizer=RMSprop(lr=1e-4),\n",
        "              metrics=['accuracy'])"
      ],
      "execution_count": 0,
      "outputs": []
    },
    {
      "cell_type": "code",
      "metadata": {
        "id": "AjsboXkN3Me3",
        "colab_type": "code",
        "colab": {
          "base_uri": "https://localhost:8080/",
          "height": 51
        },
        "outputId": "6bff0a46-2ddb-4a74-b08a-867a2b567c87"
      },
      "source": [
        "from tensorflow.keras.preprocessing.image import ImageDataGenerator\n",
        "\n",
        "# Data preprocess by normalize the pixel values to be in the [0, 1] range\n",
        "train_datagen = ImageDataGenerator(\n",
        "    rescale=1./255,\n",
        "    rotation_range=40,\n",
        "    width_shift_range=0.2,\n",
        "    height_shift_range=0.2,\n",
        "    shear_range=0.2,\n",
        "    zoom_range=0.2,\n",
        "    horizontal_flip=True,\n",
        "    fill_mode='nearest')\n",
        "\n",
        "validation_datagen = ImageDataGenerator(rescale=1./255)\n",
        "\n",
        "# Flow training images in batches of 128 using train_datagen generator\n",
        "train_generator = train_datagen.flow_from_directory(\n",
        "        '/tmp/horse-or-human/',\n",
        "        target_size=(300, 300),\n",
        "        batch_size=128,\n",
        "        class_mode='binary')\n",
        "\n",
        "# Flow validation images in batches of 32 using train_datagen generator\n",
        "validation_generator = validation_datagen.flow_from_directory(\n",
        "        '/tmp/validation-horse-or-human/',\n",
        "        target_size=(300, 300),\n",
        "        batch_size=32,\n",
        "        class_mode='binary')"
      ],
      "execution_count": 10,
      "outputs": [
        {
          "output_type": "stream",
          "text": [
            "Found 1027 images belonging to 2 classes.\n",
            "Found 256 images belonging to 2 classes.\n"
          ],
          "name": "stdout"
        }
      ]
    },
    {
      "cell_type": "code",
      "metadata": {
        "id": "dIS5_QdG7DXl",
        "colab_type": "code",
        "colab": {
          "base_uri": "https://localhost:8080/",
          "height": 1000
        },
        "outputId": "546a8260-9ee7-4e59-fb5f-4d1041cf4dbf"
      },
      "source": [
        "# Training the model\n",
        "history = model.fit(\n",
        "      train_generator,\n",
        "      steps_per_epoch=8,  \n",
        "      epochs=100,\n",
        "      verbose=1,\n",
        "      validation_data=validation_generator,\n",
        "      validation_steps=8)"
      ],
      "execution_count": 11,
      "outputs": [
        {
          "output_type": "stream",
          "text": [
            "Epoch 1/100\n",
            "8/8 [==============================] - 16s 2s/step - loss: 0.6922 - accuracy: 0.5328 - val_loss: 0.7333 - val_accuracy: 0.5000\n",
            "Epoch 2/100\n",
            "8/8 [==============================] - 18s 2s/step - loss: 0.6817 - accuracy: 0.5284 - val_loss: 0.7441 - val_accuracy: 0.5000\n",
            "Epoch 3/100\n",
            "8/8 [==============================] - 19s 2s/step - loss: 0.6654 - accuracy: 0.5818 - val_loss: 0.6482 - val_accuracy: 0.6289\n",
            "Epoch 4/100\n",
            "8/8 [==============================] - 18s 2s/step - loss: 0.6316 - accuracy: 0.7175 - val_loss: 0.6621 - val_accuracy: 0.5234\n",
            "Epoch 5/100\n",
            "8/8 [==============================] - 18s 2s/step - loss: 0.5998 - accuracy: 0.6997 - val_loss: 0.5858 - val_accuracy: 0.5117\n",
            "Epoch 6/100\n",
            "8/8 [==============================] - 18s 2s/step - loss: 0.5773 - accuracy: 0.6908 - val_loss: 0.6033 - val_accuracy: 0.6289\n",
            "Epoch 7/100\n",
            "8/8 [==============================] - 19s 2s/step - loss: 0.5625 - accuracy: 0.7063 - val_loss: 0.6880 - val_accuracy: 0.5938\n",
            "Epoch 8/100\n",
            "8/8 [==============================] - 18s 2s/step - loss: 0.5811 - accuracy: 0.6952 - val_loss: 0.9647 - val_accuracy: 0.5078\n",
            "Epoch 9/100\n",
            "8/8 [==============================] - 19s 2s/step - loss: 0.5175 - accuracy: 0.7486 - val_loss: 1.4509 - val_accuracy: 0.5000\n",
            "Epoch 10/100\n",
            "8/8 [==============================] - 19s 2s/step - loss: 0.5322 - accuracy: 0.7375 - val_loss: 0.7814 - val_accuracy: 0.5898\n",
            "Epoch 11/100\n",
            "8/8 [==============================] - 18s 2s/step - loss: 0.5165 - accuracy: 0.7430 - val_loss: 0.7819 - val_accuracy: 0.6133\n",
            "Epoch 12/100\n",
            "8/8 [==============================] - 18s 2s/step - loss: 0.5221 - accuracy: 0.7319 - val_loss: 0.3838 - val_accuracy: 0.8789\n",
            "Epoch 13/100\n",
            "8/8 [==============================] - 18s 2s/step - loss: 0.5334 - accuracy: 0.7275 - val_loss: 0.8471 - val_accuracy: 0.6211\n",
            "Epoch 14/100\n",
            "8/8 [==============================] - 19s 2s/step - loss: 0.4844 - accuracy: 0.7731 - val_loss: 1.0766 - val_accuracy: 0.5781\n",
            "Epoch 15/100\n",
            "8/8 [==============================] - 21s 3s/step - loss: 0.4710 - accuracy: 0.7586 - val_loss: 0.9343 - val_accuracy: 0.6328\n",
            "Epoch 16/100\n",
            "8/8 [==============================] - 21s 3s/step - loss: 0.4391 - accuracy: 0.8008 - val_loss: 0.9701 - val_accuracy: 0.6523\n",
            "Epoch 17/100\n",
            "8/8 [==============================] - 19s 2s/step - loss: 0.4391 - accuracy: 0.7864 - val_loss: 1.2182 - val_accuracy: 0.6094\n",
            "Epoch 18/100\n",
            "8/8 [==============================] - 18s 2s/step - loss: 0.4664 - accuracy: 0.7664 - val_loss: 1.4809 - val_accuracy: 0.5898\n",
            "Epoch 19/100\n",
            "8/8 [==============================] - 19s 2s/step - loss: 0.4079 - accuracy: 0.8309 - val_loss: 1.1718 - val_accuracy: 0.6523\n",
            "Epoch 20/100\n",
            "8/8 [==============================] - 21s 3s/step - loss: 0.4231 - accuracy: 0.8047 - val_loss: 1.4816 - val_accuracy: 0.5977\n",
            "Epoch 21/100\n",
            "8/8 [==============================] - 19s 2s/step - loss: 0.3964 - accuracy: 0.8320 - val_loss: 1.5391 - val_accuracy: 0.5977\n",
            "Epoch 22/100\n",
            "8/8 [==============================] - 19s 2s/step - loss: 0.3988 - accuracy: 0.8209 - val_loss: 1.4562 - val_accuracy: 0.6055\n",
            "Epoch 23/100\n",
            "8/8 [==============================] - 19s 2s/step - loss: 0.3830 - accuracy: 0.8276 - val_loss: 2.2026 - val_accuracy: 0.5586\n",
            "Epoch 24/100\n",
            "8/8 [==============================] - 19s 2s/step - loss: 0.3768 - accuracy: 0.8298 - val_loss: 1.7541 - val_accuracy: 0.6016\n",
            "Epoch 25/100\n",
            "8/8 [==============================] - 18s 2s/step - loss: 0.3675 - accuracy: 0.8398 - val_loss: 1.5308 - val_accuracy: 0.6289\n",
            "Epoch 26/100\n",
            "8/8 [==============================] - 18s 2s/step - loss: 0.3610 - accuracy: 0.8543 - val_loss: 1.7530 - val_accuracy: 0.6055\n",
            "Epoch 27/100\n",
            "8/8 [==============================] - 19s 2s/step - loss: 0.3773 - accuracy: 0.8298 - val_loss: 1.6420 - val_accuracy: 0.5781\n",
            "Epoch 28/100\n",
            "8/8 [==============================] - 19s 2s/step - loss: 0.3374 - accuracy: 0.8532 - val_loss: 1.6789 - val_accuracy: 0.6094\n",
            "Epoch 29/100\n",
            "8/8 [==============================] - 21s 3s/step - loss: 0.3503 - accuracy: 0.8408 - val_loss: 1.9153 - val_accuracy: 0.5742\n",
            "Epoch 30/100\n",
            "8/8 [==============================] - 19s 2s/step - loss: 0.3165 - accuracy: 0.8743 - val_loss: 1.4181 - val_accuracy: 0.6641\n",
            "Epoch 31/100\n",
            "8/8 [==============================] - 19s 2s/step - loss: 0.3392 - accuracy: 0.8443 - val_loss: 1.6844 - val_accuracy: 0.6484\n",
            "Epoch 32/100\n",
            "8/8 [==============================] - 21s 3s/step - loss: 0.3072 - accuracy: 0.8732 - val_loss: 1.8514 - val_accuracy: 0.6250\n",
            "Epoch 33/100\n",
            "8/8 [==============================] - 18s 2s/step - loss: 0.3033 - accuracy: 0.8765 - val_loss: 2.6073 - val_accuracy: 0.5664\n",
            "Epoch 34/100\n",
            "8/8 [==============================] - 19s 2s/step - loss: 0.3292 - accuracy: 0.8576 - val_loss: 2.3512 - val_accuracy: 0.5742\n",
            "Epoch 35/100\n",
            "8/8 [==============================] - 18s 2s/step - loss: 0.3304 - accuracy: 0.8554 - val_loss: 2.0406 - val_accuracy: 0.5977\n",
            "Epoch 36/100\n",
            "8/8 [==============================] - 19s 2s/step - loss: 0.2999 - accuracy: 0.8676 - val_loss: 2.9494 - val_accuracy: 0.5469\n",
            "Epoch 37/100\n",
            "8/8 [==============================] - 18s 2s/step - loss: 0.2638 - accuracy: 0.8910 - val_loss: 2.2773 - val_accuracy: 0.5898\n",
            "Epoch 38/100\n",
            "8/8 [==============================] - 18s 2s/step - loss: 0.2786 - accuracy: 0.8699 - val_loss: 1.9203 - val_accuracy: 0.6328\n",
            "Epoch 39/100\n",
            "8/8 [==============================] - 19s 2s/step - loss: 0.2655 - accuracy: 0.8810 - val_loss: 2.7839 - val_accuracy: 0.5664\n",
            "Epoch 40/100\n",
            "8/8 [==============================] - 19s 2s/step - loss: 0.2738 - accuracy: 0.8977 - val_loss: 2.4858 - val_accuracy: 0.5898\n",
            "Epoch 41/100\n",
            "8/8 [==============================] - 19s 2s/step - loss: 0.2391 - accuracy: 0.9032 - val_loss: 2.1393 - val_accuracy: 0.6445\n",
            "Epoch 42/100\n",
            "8/8 [==============================] - 19s 2s/step - loss: 0.2786 - accuracy: 0.8687 - val_loss: 2.3344 - val_accuracy: 0.6055\n",
            "Epoch 43/100\n",
            "8/8 [==============================] - 21s 3s/step - loss: 0.2380 - accuracy: 0.8945 - val_loss: 2.7057 - val_accuracy: 0.5820\n",
            "Epoch 44/100\n",
            "8/8 [==============================] - 19s 2s/step - loss: 0.2718 - accuracy: 0.8932 - val_loss: 2.0559 - val_accuracy: 0.6602\n",
            "Epoch 45/100\n",
            "8/8 [==============================] - 19s 2s/step - loss: 0.2424 - accuracy: 0.8988 - val_loss: 2.6747 - val_accuracy: 0.6094\n",
            "Epoch 46/100\n",
            "8/8 [==============================] - 19s 2s/step - loss: 0.2626 - accuracy: 0.8899 - val_loss: 3.9234 - val_accuracy: 0.5234\n",
            "Epoch 47/100\n",
            "8/8 [==============================] - 18s 2s/step - loss: 0.2512 - accuracy: 0.8865 - val_loss: 3.6335 - val_accuracy: 0.5586\n",
            "Epoch 48/100\n",
            "8/8 [==============================] - 19s 2s/step - loss: 0.2222 - accuracy: 0.9143 - val_loss: 2.5113 - val_accuracy: 0.6289\n",
            "Epoch 49/100\n",
            "8/8 [==============================] - 19s 2s/step - loss: 0.2399 - accuracy: 0.9077 - val_loss: 2.2265 - val_accuracy: 0.6523\n",
            "Epoch 50/100\n",
            "8/8 [==============================] - 18s 2s/step - loss: 0.2274 - accuracy: 0.8977 - val_loss: 3.8151 - val_accuracy: 0.5391\n",
            "Epoch 51/100\n",
            "8/8 [==============================] - 19s 2s/step - loss: 0.2568 - accuracy: 0.8954 - val_loss: 3.1526 - val_accuracy: 0.5742\n",
            "Epoch 52/100\n",
            "8/8 [==============================] - 19s 2s/step - loss: 0.2234 - accuracy: 0.9043 - val_loss: 3.3430 - val_accuracy: 0.5742\n",
            "Epoch 53/100\n",
            "8/8 [==============================] - 18s 2s/step - loss: 0.1949 - accuracy: 0.9255 - val_loss: 1.3586 - val_accuracy: 0.7344\n",
            "Epoch 54/100\n",
            "8/8 [==============================] - 21s 3s/step - loss: 0.2662 - accuracy: 0.8932 - val_loss: 3.3619 - val_accuracy: 0.5781\n",
            "Epoch 55/100\n",
            "8/8 [==============================] - 19s 2s/step - loss: 0.2596 - accuracy: 0.8988 - val_loss: 2.8585 - val_accuracy: 0.6172\n",
            "Epoch 56/100\n",
            "8/8 [==============================] - 21s 3s/step - loss: 0.1929 - accuracy: 0.9277 - val_loss: 2.8994 - val_accuracy: 0.6289\n",
            "Epoch 57/100\n",
            "8/8 [==============================] - 21s 3s/step - loss: 0.1899 - accuracy: 0.9229 - val_loss: 2.1262 - val_accuracy: 0.6797\n",
            "Epoch 58/100\n",
            "8/8 [==============================] - 19s 2s/step - loss: 0.2179 - accuracy: 0.9055 - val_loss: 4.1779 - val_accuracy: 0.5586\n",
            "Epoch 59/100\n",
            "8/8 [==============================] - 21s 3s/step - loss: 0.1991 - accuracy: 0.9141 - val_loss: 3.6177 - val_accuracy: 0.5664\n",
            "Epoch 60/100\n",
            "8/8 [==============================] - 19s 2s/step - loss: 0.1856 - accuracy: 0.9299 - val_loss: 5.7517 - val_accuracy: 0.5078\n",
            "Epoch 61/100\n",
            "8/8 [==============================] - 21s 3s/step - loss: 0.1936 - accuracy: 0.9155 - val_loss: 3.9801 - val_accuracy: 0.5391\n",
            "Epoch 62/100\n",
            "8/8 [==============================] - 19s 2s/step - loss: 0.1782 - accuracy: 0.9355 - val_loss: 4.0122 - val_accuracy: 0.5273\n",
            "Epoch 63/100\n",
            "8/8 [==============================] - 18s 2s/step - loss: 0.2015 - accuracy: 0.9166 - val_loss: 4.3554 - val_accuracy: 0.5352\n",
            "Epoch 64/100\n",
            "8/8 [==============================] - 21s 3s/step - loss: 0.1707 - accuracy: 0.9444 - val_loss: 3.7674 - val_accuracy: 0.5664\n",
            "Epoch 65/100\n",
            "8/8 [==============================] - 19s 2s/step - loss: 0.2075 - accuracy: 0.9210 - val_loss: 3.1188 - val_accuracy: 0.6094\n",
            "Epoch 66/100\n",
            "8/8 [==============================] - 21s 3s/step - loss: 0.1764 - accuracy: 0.9346 - val_loss: 2.7679 - val_accuracy: 0.6445\n",
            "Epoch 67/100\n",
            "8/8 [==============================] - 18s 2s/step - loss: 0.1890 - accuracy: 0.9210 - val_loss: 3.2185 - val_accuracy: 0.6211\n",
            "Epoch 68/100\n",
            "8/8 [==============================] - 21s 3s/step - loss: 0.1754 - accuracy: 0.9310 - val_loss: 4.1613 - val_accuracy: 0.5508\n",
            "Epoch 69/100\n",
            "8/8 [==============================] - 19s 2s/step - loss: 0.2004 - accuracy: 0.9121 - val_loss: 3.4063 - val_accuracy: 0.5898\n",
            "Epoch 70/100\n",
            "8/8 [==============================] - 21s 3s/step - loss: 0.1556 - accuracy: 0.9388 - val_loss: 4.2048 - val_accuracy: 0.5703\n",
            "Epoch 71/100\n",
            "8/8 [==============================] - 22s 3s/step - loss: 0.2128 - accuracy: 0.9177 - val_loss: 4.3147 - val_accuracy: 0.5508\n",
            "Epoch 72/100\n",
            "8/8 [==============================] - 19s 2s/step - loss: 0.1370 - accuracy: 0.9488 - val_loss: 4.0133 - val_accuracy: 0.5742\n",
            "Epoch 73/100\n",
            "8/8 [==============================] - 19s 2s/step - loss: 0.1301 - accuracy: 0.9555 - val_loss: 4.2785 - val_accuracy: 0.5859\n",
            "Epoch 74/100\n",
            "8/8 [==============================] - 19s 2s/step - loss: 0.1916 - accuracy: 0.9143 - val_loss: 3.6857 - val_accuracy: 0.6250\n",
            "Epoch 75/100\n",
            "8/8 [==============================] - 19s 2s/step - loss: 0.2206 - accuracy: 0.9110 - val_loss: 3.6516 - val_accuracy: 0.6172\n",
            "Epoch 76/100\n",
            "8/8 [==============================] - 21s 3s/step - loss: 0.1407 - accuracy: 0.9434 - val_loss: 3.9389 - val_accuracy: 0.5938\n",
            "Epoch 77/100\n",
            "8/8 [==============================] - 19s 2s/step - loss: 0.1405 - accuracy: 0.9477 - val_loss: 3.7968 - val_accuracy: 0.6172\n",
            "Epoch 78/100\n",
            "8/8 [==============================] - 19s 2s/step - loss: 0.1497 - accuracy: 0.9422 - val_loss: 3.8945 - val_accuracy: 0.6016\n",
            "Epoch 79/100\n",
            "8/8 [==============================] - 19s 2s/step - loss: 0.1975 - accuracy: 0.9110 - val_loss: 4.8006 - val_accuracy: 0.5508\n",
            "Epoch 80/100\n",
            "8/8 [==============================] - 21s 3s/step - loss: 0.1450 - accuracy: 0.9375 - val_loss: 4.3191 - val_accuracy: 0.5703\n",
            "Epoch 81/100\n",
            "8/8 [==============================] - 19s 2s/step - loss: 0.1620 - accuracy: 0.9321 - val_loss: 2.0678 - val_accuracy: 0.6953\n",
            "Epoch 82/100\n",
            "8/8 [==============================] - 19s 2s/step - loss: 0.1769 - accuracy: 0.9277 - val_loss: 4.2073 - val_accuracy: 0.5664\n",
            "Epoch 83/100\n",
            "8/8 [==============================] - 19s 2s/step - loss: 0.1489 - accuracy: 0.9433 - val_loss: 4.9009 - val_accuracy: 0.5430\n",
            "Epoch 84/100\n",
            "8/8 [==============================] - 19s 2s/step - loss: 0.1426 - accuracy: 0.9466 - val_loss: 3.9791 - val_accuracy: 0.5938\n",
            "Epoch 85/100\n",
            "8/8 [==============================] - 21s 3s/step - loss: 0.1492 - accuracy: 0.9395 - val_loss: 3.3090 - val_accuracy: 0.6484\n",
            "Epoch 86/100\n",
            "8/8 [==============================] - 21s 3s/step - loss: 0.1476 - accuracy: 0.9424 - val_loss: 3.6996 - val_accuracy: 0.6328\n",
            "Epoch 87/100\n",
            "8/8 [==============================] - 19s 2s/step - loss: 0.1049 - accuracy: 0.9588 - val_loss: 4.2513 - val_accuracy: 0.6094\n",
            "Epoch 88/100\n",
            "8/8 [==============================] - 19s 2s/step - loss: 0.2291 - accuracy: 0.9166 - val_loss: 4.0355 - val_accuracy: 0.6055\n",
            "Epoch 89/100\n",
            "8/8 [==============================] - 19s 2s/step - loss: 0.1058 - accuracy: 0.9600 - val_loss: 3.8774 - val_accuracy: 0.6328\n",
            "Epoch 90/100\n",
            "8/8 [==============================] - 18s 2s/step - loss: 0.1211 - accuracy: 0.9533 - val_loss: 8.0084 - val_accuracy: 0.5078\n",
            "Epoch 91/100\n",
            "8/8 [==============================] - 19s 2s/step - loss: 0.1971 - accuracy: 0.9277 - val_loss: 4.0132 - val_accuracy: 0.6211\n",
            "Epoch 92/100\n",
            "8/8 [==============================] - 21s 3s/step - loss: 0.1452 - accuracy: 0.9434 - val_loss: 5.1232 - val_accuracy: 0.5469\n",
            "Epoch 93/100\n",
            "8/8 [==============================] - 19s 2s/step - loss: 0.1175 - accuracy: 0.9544 - val_loss: 5.0120 - val_accuracy: 0.5859\n",
            "Epoch 94/100\n",
            "8/8 [==============================] - 19s 2s/step - loss: 0.1701 - accuracy: 0.9333 - val_loss: 4.0831 - val_accuracy: 0.6094\n",
            "Epoch 95/100\n",
            "8/8 [==============================] - 19s 2s/step - loss: 0.1814 - accuracy: 0.9333 - val_loss: 4.2746 - val_accuracy: 0.6016\n",
            "Epoch 96/100\n",
            "8/8 [==============================] - 18s 2s/step - loss: 0.1254 - accuracy: 0.9522 - val_loss: 3.4739 - val_accuracy: 0.6484\n",
            "Epoch 97/100\n",
            "8/8 [==============================] - 19s 2s/step - loss: 0.1137 - accuracy: 0.9555 - val_loss: 5.4722 - val_accuracy: 0.5508\n",
            "Epoch 98/100\n",
            "8/8 [==============================] - 19s 2s/step - loss: 0.1407 - accuracy: 0.9511 - val_loss: 6.9558 - val_accuracy: 0.5195\n",
            "Epoch 99/100\n",
            "8/8 [==============================] - 21s 3s/step - loss: 0.1552 - accuracy: 0.9395 - val_loss: 4.8576 - val_accuracy: 0.5664\n",
            "Epoch 100/100\n",
            "8/8 [==============================] - 19s 2s/step - loss: 0.1239 - accuracy: 0.9499 - val_loss: 3.8239 - val_accuracy: 0.6328\n"
          ],
          "name": "stdout"
        }
      ]
    },
    {
      "cell_type": "code",
      "metadata": {
        "id": "mS642qa77meO",
        "colab_type": "code",
        "colab": {
          "base_uri": "https://localhost:8080/",
          "height": 545
        },
        "outputId": "00596836-d21f-488a-9eea-bcd70ddcdea3"
      },
      "source": [
        "# Plotting accuracy\n",
        "import matplotlib.pyplot as plt\n",
        "acc = history.history['accuracy']\n",
        "val_acc = history.history['val_accuracy']\n",
        "loss = history.history['loss']\n",
        "val_loss = history.history['val_loss']\n",
        "\n",
        "epochs = range(len(acc))\n",
        "\n",
        "plt.plot(epochs, acc, 'r', label='Training accuracy')\n",
        "plt.plot(epochs, val_acc, 'b', label='Validation accuracy')\n",
        "plt.title('Training and validation accuracy')\n",
        "\n",
        "plt.figure()\n",
        "\n",
        "plt.plot(epochs, loss, 'r', label='Training Loss')\n",
        "plt.plot(epochs, val_loss, 'b', label='Validation Loss')\n",
        "plt.title('Training and validation loss')\n",
        "plt.legend()\n",
        "\n",
        "plt.show()"
      ],
      "execution_count": 12,
      "outputs": [
        {
          "output_type": "display_data",
          "data": {
            "image/png": "[encoded data removed]",
            "text/plain": [
              "<Figure size 432x288 with 1 Axes>"
            ]
          },
          "metadata": {
            "tags": [],
            "needs_background": "light"
          }
        },
        {
          "output_type": "display_data",
          "data": {
            "image/png": "[encoded data removed]",
            "text/plain": [
              "<Figure size 432x288 with 1 Axes>"
            ]
          },
          "metadata": {
            "tags": [],
            "needs_background": "light"
          }
        }
      ]
    },
    {
      "cell_type": "code",
      "metadata": {
        "id": "Hyi4CLkFE-T8",
        "colab_type": "code",
        "colab": {}
      },
      "source": [
        "# Clean up\n",
        "import os, signal\n",
        "\n",
        "os.kill(     os.getpid() , \n",
        "         signal.SIGKILL\n",
        "       )"
      ],
      "execution_count": 0,
      "outputs": []
    },
    {
      "cell_type": "code",
      "metadata": {
        "id": "rryYh4M2FNwW",
        "colab_type": "code",
        "colab": {}
      },
      "source": [
        ""
      ],
      "execution_count": 0,
      "outputs": []
    }
  ]
}