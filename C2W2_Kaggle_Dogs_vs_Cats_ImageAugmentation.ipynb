{
  "nbformat": 4,
  "nbformat_minor": 0,
  "metadata": {
    "colab": {
      "name": "C1W2_Kaggle_Dogs_vs_Cats_ImageAugmentation.ipynb",
      "provenance": [],
      "authorship_tag": "ABX9TyOxYbOispvEKXXD50Y4qsos",
      "include_colab_link": true
    },
    "kernelspec": {
      "name": "python3",
      "display_name": "Python 3"
    },
    "accelerator": "GPU"
  },
  "cells": [
    {
      "cell_type": "markdown",
      "metadata": {
        "id": "view-in-github",
        "colab_type": "text"
      },
      "source": [
        "<a href=\"https://colab.research.google.com/github/akiabe/coursera-dl-tf-in-practice/blob/master/C1W2_Kaggle_Dogs_vs_Cats_ImageAugmentation.ipynb\" target=\"_parent\"><img src=\"https://colab.research.google.com/assets/colab-badge.svg\" alt=\"Open In Colab\"/></a>"
      ]
    },
    {
      "cell_type": "code",
      "metadata": {
        "id": "X-8zt7SxvjEc",
        "colab_type": "code",
        "colab": {
          "base_uri": "https://localhost:8080/",
          "height": 204
        },
        "outputId": "c7850d39-2ac6-404e-df2e-c8fbe78d1b00"
      },
      "source": [
        "# Download example data\n",
        "!wget --no-check-certificate \\\n",
        "    https://storage.googleapis.com/mledu-datasets/cats_and_dogs_filtered.zip \\\n",
        "    -O /tmp/cats_and_dogs_filtered.zip"
      ],
      "execution_count": 2,
      "outputs": [
        {
          "output_type": "stream",
          "text": [
            "--2020-06-02 03:52:00--  https://storage.googleapis.com/mledu-datasets/cats_and_dogs_filtered.zip\n",
            "Resolving storage.googleapis.com (storage.googleapis.com)... 172.217.13.240, 2607:f8b0:4004:815::2010\n",
            "Connecting to storage.googleapis.com (storage.googleapis.com)|172.217.13.240|:443... connected.\n",
            "HTTP request sent, awaiting response... 200 OK\n",
            "Length: 68606236 (65M) [application/zip]\n",
            "Saving to: ‘/tmp/cats_and_dogs_filtered.zip’\n",
            "\n",
            "/tmp/cats_and_dogs_ 100%[===================>]  65.43M   124MB/s    in 0.5s    \n",
            "\n",
            "2020-06-02 03:52:01 (124 MB/s) - ‘/tmp/cats_and_dogs_filtered.zip’ saved [68606236/68606236]\n",
            "\n"
          ],
          "name": "stdout"
        }
      ]
    },
    {
      "cell_type": "code",
      "metadata": {
        "id": "f8IQgON8xpAZ",
        "colab_type": "code",
        "colab": {}
      },
      "source": [
        "# Access to the file system and unzip file\n",
        "import os\n",
        "import zipfile\n",
        "\n",
        "# # UnZip to '/tmp' directory\n",
        "local_zip = '/tmp/cats_and_dogs_filtered.zip'\n",
        "\n",
        "zip_ref = zipfile.ZipFile(local_zip, 'r')\n",
        "zip_ref.extractall('/tmp')\n",
        "zip_ref.close()"
      ],
      "execution_count": 0,
      "outputs": []
    },
    {
      "cell_type": "code",
      "metadata": {
        "id": "rkxLagGSzYet",
        "colab_type": "code",
        "colab": {}
      },
      "source": [
        "# Define train and validation directory\n",
        "base_dir = '/tmp/cats_and_dogs_filtered'\n",
        "\n",
        "train_dir = os.path.join(base_dir, 'train')\n",
        "validation_dir = os.path.join(base_dir, 'validation')\n",
        "\n",
        "# Define train cat/dog pictures directory\n",
        "train_cats_dir = os.path.join(train_dir, 'cats')\n",
        "train_dogs_dir = os.path.join(train_dir, 'dogs')\n",
        "\n",
        "# Define validation cat/dog pictures directory\n",
        "validation_cats_dir = os.path.join(validation_dir, 'cats')\n",
        "validation_dogs_dir = os.path.join(validation_dir, 'dogs')"
      ],
      "execution_count": 0,
      "outputs": []
    },
    {
      "cell_type": "code",
      "metadata": {
        "id": "yGLXl7oL3UGF",
        "colab_type": "code",
        "colab": {
          "base_uri": "https://localhost:8080/",
          "height": 105
        },
        "outputId": "61bae86a-2070-4b5d-f02b-167e52deb799"
      },
      "source": [
        "# Check filenames in the train directory\n",
        "train_cat_fnames = os.listdir(train_cats_dir)\n",
        "train_dog_fnames = os.listdir(train_dogs_dir)\n",
        "validation_cat_fnames = os.listdir(validation_cats_dir)\n",
        "validation_dog_fnames = os.listdir(validation_dogs_dir)\n",
        "\n",
        "print(train_cat_fnames[:10])\n",
        "print(train_dog_fnames[:10])\n",
        "print(validation_cat_fnames[:10])\n",
        "print(validation_dog_fnames[:10])"
      ],
      "execution_count": 7,
      "outputs": [
        {
          "output_type": "stream",
          "text": [
            "['cat.468.jpg', 'cat.423.jpg', 'cat.573.jpg', 'cat.31.jpg', 'cat.884.jpg', 'cat.676.jpg', 'cat.397.jpg', 'cat.101.jpg', 'cat.298.jpg', 'cat.626.jpg']\n",
            "['dog.937.jpg', 'dog.437.jpg', 'dog.860.jpg', 'dog.222.jpg', 'dog.69.jpg', 'dog.627.jpg', 'dog.308.jpg', 'dog.804.jpg', 'dog.469.jpg', 'dog.58.jpg']\n",
            "['cat.2164.jpg', 'cat.2150.jpg', 'cat.2421.jpg', 'cat.2494.jpg', 'cat.2469.jpg', 'cat.2111.jpg', 'cat.2185.jpg', 'cat.2019.jpg', 'cat.2021.jpg', 'cat.2106.jpg']\n",
            "['dog.2220.jpg', 'dog.2152.jpg', 'dog.2308.jpg', 'dog.2349.jpg', 'dog.2391.jpg', 'dog.2271.jpg', 'dog.2285.jpg', 'dog.2445.jpg', 'dog.2300.jpg', 'dog.2394.jpg']\n"
          ],
          "name": "stdout"
        }
      ]
    },
    {
      "cell_type": "code",
      "metadata": {
        "id": "popOc2fA4Ah_",
        "colab_type": "code",
        "colab": {
          "base_uri": "https://localhost:8080/",
          "height": 85
        },
        "outputId": "86124258-0bc6-40a6-e23b-4c0cb9b1f4d9"
      },
      "source": [
        "# Check total file numbers\n",
        "print('total training cat images: ', len(os.listdir(train_cats_dir)))\n",
        "print('total training dog images: ', len(os.listdir(train_dogs_dir)))\n",
        "print('total validation cat images: ', len(os.listdir(validation_cats_dir)))\n",
        "print('total validation dog images: ', len(os.listdir(validation_dogs_dir)))"
      ],
      "execution_count": 8,
      "outputs": [
        {
          "output_type": "stream",
          "text": [
            "total training cat images:  1000\n",
            "total training dog images:  1000\n",
            "total validation cat images:  500\n",
            "total validation dog images:  500\n"
          ],
          "name": "stdout"
        }
      ]
    },
    {
      "cell_type": "code",
      "metadata": {
        "id": "tboccTNK0J3H",
        "colab_type": "code",
        "colab": {}
      },
      "source": [
        "import tensorflow as tf"
      ],
      "execution_count": 0,
      "outputs": []
    },
    {
      "cell_type": "code",
      "metadata": {
        "id": "fHrHr_fX0TM2",
        "colab_type": "code",
        "colab": {}
      },
      "source": [
        "# Model\n",
        "model = tf.keras.models.Sequential([\n",
        "    tf.keras.layers.Conv2D(32, (3,3), activation='relu', input_shape=(150, 150, 3)),\n",
        "    tf.keras.layers.MaxPooling2D(2, 2),\n",
        "\n",
        "    tf.keras.layers.Conv2D(64, (3,3), activation='relu'),\n",
        "    tf.keras.layers.MaxPooling2D(2,2),\n",
        "    \n",
        "    tf.keras.layers.Conv2D(128, (3,3), activation='relu'),\n",
        "    tf.keras.layers.MaxPooling2D(2,2),\n",
        "    \n",
        "    tf.keras.layers.Conv2D(128, (3,3), activation='relu'),\n",
        "    tf.keras.layers.MaxPooling2D(2,2),\n",
        "    \n",
        "    tf.keras.layers.Flatten(),\n",
        "    tf.keras.layers.Dense(512, activation='relu'),\n",
        "    tf.keras.layers.Dense(1, activation='sigmoid')\n",
        "])"
      ],
      "execution_count": 0,
      "outputs": []
    },
    {
      "cell_type": "code",
      "metadata": {
        "id": "PrMXzVXm3AKS",
        "colab_type": "code",
        "colab": {
          "base_uri": "https://localhost:8080/",
          "height": 527
        },
        "outputId": "d484b31e-3233-45ed-e8b7-b55f0693b29a"
      },
      "source": [
        "model.summary()"
      ],
      "execution_count": 11,
      "outputs": [
        {
          "output_type": "stream",
          "text": [
            "Model: \"sequential\"\n",
            "_________________________________________________________________\n",
            "Layer (type)                 Output Shape              Param #   \n",
            "=================================================================\n",
            "conv2d (Conv2D)              (None, 148, 148, 32)      896       \n",
            "_________________________________________________________________\n",
            "max_pooling2d (MaxPooling2D) (None, 74, 74, 32)        0         \n",
            "_________________________________________________________________\n",
            "conv2d_1 (Conv2D)            (None, 72, 72, 64)        18496     \n",
            "_________________________________________________________________\n",
            "max_pooling2d_1 (MaxPooling2 (None, 36, 36, 64)        0         \n",
            "_________________________________________________________________\n",
            "conv2d_2 (Conv2D)            (None, 34, 34, 128)       73856     \n",
            "_________________________________________________________________\n",
            "max_pooling2d_2 (MaxPooling2 (None, 17, 17, 128)       0         \n",
            "_________________________________________________________________\n",
            "conv2d_3 (Conv2D)            (None, 15, 15, 128)       147584    \n",
            "_________________________________________________________________\n",
            "max_pooling2d_3 (MaxPooling2 (None, 7, 7, 128)         0         \n",
            "_________________________________________________________________\n",
            "flatten (Flatten)            (None, 6272)              0         \n",
            "_________________________________________________________________\n",
            "dense (Dense)                (None, 512)               3211776   \n",
            "_________________________________________________________________\n",
            "dense_1 (Dense)              (None, 1)                 513       \n",
            "=================================================================\n",
            "Total params: 3,453,121\n",
            "Trainable params: 3,453,121\n",
            "Non-trainable params: 0\n",
            "_________________________________________________________________\n"
          ],
          "name": "stdout"
        }
      ]
    },
    {
      "cell_type": "code",
      "metadata": {
        "id": "Ro6A8ErN1npA",
        "colab_type": "code",
        "colab": {}
      },
      "source": [
        "# Optimizer\n",
        "from tensorflow.keras.optimizers import RMSprop\n",
        "\n",
        "model.compile(loss='binary_crossentropy',\n",
        "              optimizer=RMSprop(lr=1e-4),\n",
        "              metrics=['accuracy'])"
      ],
      "execution_count": 0,
      "outputs": []
    },
    {
      "cell_type": "code",
      "metadata": {
        "id": "AjsboXkN3Me3",
        "colab_type": "code",
        "colab": {
          "base_uri": "https://localhost:8080/",
          "height": 51
        },
        "outputId": "6f2ddec9-7c9e-4eea-d2e0-523d8e3c9453"
      },
      "source": [
        "from tensorflow.keras.preprocessing.image import ImageDataGenerator\n",
        "\n",
        "# Data preprocess by normalize the pixel values to be in the [0, 1] range\n",
        "train_datagen = ImageDataGenerator(\n",
        "    rescale=1./255,\n",
        "    rotation_range=40,\n",
        "    width_shift_range=0.2,\n",
        "    height_shift_range=0.2,\n",
        "    shear_range=0.2,\n",
        "    zoom_range=0.2,\n",
        "    horizontal_flip=True,\n",
        "    fill_mode='nearest')\n",
        "\n",
        "validation_datagen = ImageDataGenerator(rescale=1./255)\n",
        "\n",
        "# Flow training images in batches of 20 using train_datagen generator\n",
        "train_generator = train_datagen.flow_from_directory(\n",
        "        train_dir,\n",
        "        target_size=(150, 150),\n",
        "        batch_size=20,\n",
        "        class_mode='binary')\n",
        "\n",
        "# Flow validation images in batches of 20 using train_datagen generator\n",
        "validation_generator = validation_datagen.flow_from_directory(\n",
        "        validation_dir,\n",
        "        target_size=(150, 150),\n",
        "        batch_size=20,\n",
        "        class_mode='binary')"
      ],
      "execution_count": 13,
      "outputs": [
        {
          "output_type": "stream",
          "text": [
            "Found 2000 images belonging to 2 classes.\n",
            "Found 1000 images belonging to 2 classes.\n"
          ],
          "name": "stdout"
        }
      ]
    },
    {
      "cell_type": "code",
      "metadata": {
        "id": "dIS5_QdG7DXl",
        "colab_type": "code",
        "colab": {
          "base_uri": "https://localhost:8080/",
          "height": 1000
        },
        "outputId": "b23c2c5d-cf2e-422f-84cd-5a88edc09a9c"
      },
      "source": [
        "# Training the model\n",
        "history = model.fit(\n",
        "      train_generator,\n",
        "      steps_per_epoch=100,  # 2000 images = batch_size * steps\n",
        "      epochs=100,\n",
        "      validation_data=validation_generator,\n",
        "      validation_steps=50,  # 1000 images = batch_size * steps\n",
        "      verbose=2)"
      ],
      "execution_count": 14,
      "outputs": [
        {
          "output_type": "stream",
          "text": [
            "Epoch 1/100\n",
            "100/100 - 17s - loss: 0.6932 - accuracy: 0.5145 - val_loss: 0.6862 - val_accuracy: 0.5000\n",
            "Epoch 2/100\n",
            "100/100 - 16s - loss: 0.6824 - accuracy: 0.5605 - val_loss: 0.6868 - val_accuracy: 0.5250\n",
            "Epoch 3/100\n",
            "100/100 - 16s - loss: 0.6647 - accuracy: 0.5975 - val_loss: 0.6397 - val_accuracy: 0.6270\n",
            "Epoch 4/100\n",
            "100/100 - 16s - loss: 0.6559 - accuracy: 0.6315 - val_loss: 0.6101 - val_accuracy: 0.6720\n",
            "Epoch 5/100\n",
            "100/100 - 16s - loss: 0.6386 - accuracy: 0.6210 - val_loss: 0.6041 - val_accuracy: 0.6690\n",
            "Epoch 6/100\n",
            "100/100 - 16s - loss: 0.6203 - accuracy: 0.6605 - val_loss: 0.5675 - val_accuracy: 0.7080\n",
            "Epoch 7/100\n",
            "100/100 - 16s - loss: 0.6102 - accuracy: 0.6670 - val_loss: 0.5506 - val_accuracy: 0.7140\n",
            "Epoch 8/100\n",
            "100/100 - 16s - loss: 0.5960 - accuracy: 0.6820 - val_loss: 0.5667 - val_accuracy: 0.6900\n",
            "Epoch 9/100\n",
            "100/100 - 16s - loss: 0.5905 - accuracy: 0.6945 - val_loss: 0.5449 - val_accuracy: 0.7080\n",
            "Epoch 10/100\n",
            "100/100 - 16s - loss: 0.5847 - accuracy: 0.6790 - val_loss: 0.5606 - val_accuracy: 0.6980\n",
            "Epoch 11/100\n",
            "100/100 - 17s - loss: 0.5803 - accuracy: 0.6950 - val_loss: 0.5275 - val_accuracy: 0.7270\n",
            "Epoch 12/100\n",
            "100/100 - 16s - loss: 0.5693 - accuracy: 0.7015 - val_loss: 0.6738 - val_accuracy: 0.6130\n",
            "Epoch 13/100\n",
            "100/100 - 16s - loss: 0.5677 - accuracy: 0.7105 - val_loss: 0.5237 - val_accuracy: 0.7250\n",
            "Epoch 14/100\n",
            "100/100 - 16s - loss: 0.5609 - accuracy: 0.7060 - val_loss: 0.5254 - val_accuracy: 0.7200\n",
            "Epoch 15/100\n",
            "100/100 - 16s - loss: 0.5653 - accuracy: 0.7115 - val_loss: 0.5091 - val_accuracy: 0.7480\n",
            "Epoch 16/100\n",
            "100/100 - 17s - loss: 0.5552 - accuracy: 0.7130 - val_loss: 0.5258 - val_accuracy: 0.7310\n",
            "Epoch 17/100\n",
            "100/100 - 16s - loss: 0.5431 - accuracy: 0.7180 - val_loss: 0.5642 - val_accuracy: 0.7030\n",
            "Epoch 18/100\n",
            "100/100 - 16s - loss: 0.5458 - accuracy: 0.7350 - val_loss: 0.5412 - val_accuracy: 0.7180\n",
            "Epoch 19/100\n",
            "100/100 - 16s - loss: 0.5457 - accuracy: 0.7190 - val_loss: 0.5028 - val_accuracy: 0.7290\n",
            "Epoch 20/100\n",
            "100/100 - 16s - loss: 0.5381 - accuracy: 0.7320 - val_loss: 0.4908 - val_accuracy: 0.7500\n",
            "Epoch 21/100\n",
            "100/100 - 17s - loss: 0.5397 - accuracy: 0.7195 - val_loss: 0.4885 - val_accuracy: 0.7570\n",
            "Epoch 22/100\n",
            "100/100 - 17s - loss: 0.5156 - accuracy: 0.7350 - val_loss: 0.5646 - val_accuracy: 0.7040\n",
            "Epoch 23/100\n",
            "100/100 - 17s - loss: 0.5318 - accuracy: 0.7340 - val_loss: 0.4768 - val_accuracy: 0.7620\n",
            "Epoch 24/100\n",
            "100/100 - 16s - loss: 0.5168 - accuracy: 0.7495 - val_loss: 0.5314 - val_accuracy: 0.7300\n",
            "Epoch 25/100\n",
            "100/100 - 17s - loss: 0.5129 - accuracy: 0.7555 - val_loss: 0.4857 - val_accuracy: 0.7600\n",
            "Epoch 26/100\n",
            "100/100 - 17s - loss: 0.4977 - accuracy: 0.7455 - val_loss: 0.4903 - val_accuracy: 0.7600\n",
            "Epoch 27/100\n",
            "100/100 - 16s - loss: 0.5212 - accuracy: 0.7350 - val_loss: 0.4905 - val_accuracy: 0.7530\n",
            "Epoch 28/100\n",
            "100/100 - 16s - loss: 0.5066 - accuracy: 0.7515 - val_loss: 0.4747 - val_accuracy: 0.7660\n",
            "Epoch 29/100\n",
            "100/100 - 16s - loss: 0.5041 - accuracy: 0.7585 - val_loss: 0.4601 - val_accuracy: 0.7600\n",
            "Epoch 30/100\n",
            "100/100 - 17s - loss: 0.4907 - accuracy: 0.7570 - val_loss: 0.4826 - val_accuracy: 0.7590\n",
            "Epoch 31/100\n",
            "100/100 - 16s - loss: 0.5008 - accuracy: 0.7555 - val_loss: 0.5112 - val_accuracy: 0.7500\n",
            "Epoch 32/100\n",
            "100/100 - 16s - loss: 0.4980 - accuracy: 0.7490 - val_loss: 0.4590 - val_accuracy: 0.7870\n",
            "Epoch 33/100\n",
            "100/100 - 17s - loss: 0.5050 - accuracy: 0.7525 - val_loss: 0.4670 - val_accuracy: 0.7830\n",
            "Epoch 34/100\n",
            "100/100 - 16s - loss: 0.4823 - accuracy: 0.7720 - val_loss: 0.5025 - val_accuracy: 0.7550\n",
            "Epoch 35/100\n",
            "100/100 - 17s - loss: 0.4914 - accuracy: 0.7565 - val_loss: 0.4851 - val_accuracy: 0.7650\n",
            "Epoch 36/100\n",
            "100/100 - 16s - loss: 0.4795 - accuracy: 0.7665 - val_loss: 0.4558 - val_accuracy: 0.7840\n",
            "Epoch 37/100\n",
            "100/100 - 16s - loss: 0.4815 - accuracy: 0.7680 - val_loss: 0.5165 - val_accuracy: 0.7490\n",
            "Epoch 38/100\n",
            "100/100 - 16s - loss: 0.4667 - accuracy: 0.7820 - val_loss: 0.4560 - val_accuracy: 0.7880\n",
            "Epoch 39/100\n",
            "100/100 - 17s - loss: 0.4779 - accuracy: 0.7630 - val_loss: 0.4393 - val_accuracy: 0.7910\n",
            "Epoch 40/100\n",
            "100/100 - 17s - loss: 0.4703 - accuracy: 0.7715 - val_loss: 0.4653 - val_accuracy: 0.7760\n",
            "Epoch 41/100\n",
            "100/100 - 17s - loss: 0.4688 - accuracy: 0.7710 - val_loss: 0.4375 - val_accuracy: 0.7900\n",
            "Epoch 42/100\n",
            "100/100 - 16s - loss: 0.4666 - accuracy: 0.7815 - val_loss: 0.4554 - val_accuracy: 0.7770\n",
            "Epoch 43/100\n",
            "100/100 - 16s - loss: 0.4641 - accuracy: 0.7855 - val_loss: 0.4946 - val_accuracy: 0.7470\n",
            "Epoch 44/100\n",
            "100/100 - 16s - loss: 0.4562 - accuracy: 0.7820 - val_loss: 0.4449 - val_accuracy: 0.7920\n",
            "Epoch 45/100\n",
            "100/100 - 17s - loss: 0.4684 - accuracy: 0.7695 - val_loss: 0.4799 - val_accuracy: 0.7600\n",
            "Epoch 46/100\n",
            "100/100 - 17s - loss: 0.4632 - accuracy: 0.7725 - val_loss: 0.4682 - val_accuracy: 0.7820\n",
            "Epoch 47/100\n",
            "100/100 - 17s - loss: 0.4565 - accuracy: 0.7675 - val_loss: 0.4565 - val_accuracy: 0.7810\n",
            "Epoch 48/100\n",
            "100/100 - 17s - loss: 0.4601 - accuracy: 0.7875 - val_loss: 0.4714 - val_accuracy: 0.7810\n",
            "Epoch 49/100\n",
            "100/100 - 17s - loss: 0.4590 - accuracy: 0.7830 - val_loss: 0.5365 - val_accuracy: 0.7440\n",
            "Epoch 50/100\n",
            "100/100 - 17s - loss: 0.4366 - accuracy: 0.7890 - val_loss: 0.4418 - val_accuracy: 0.7920\n",
            "Epoch 51/100\n",
            "100/100 - 17s - loss: 0.4399 - accuracy: 0.7895 - val_loss: 0.4772 - val_accuracy: 0.7820\n",
            "Epoch 52/100\n",
            "100/100 - 17s - loss: 0.4270 - accuracy: 0.7935 - val_loss: 0.4294 - val_accuracy: 0.7950\n",
            "Epoch 53/100\n",
            "100/100 - 17s - loss: 0.4390 - accuracy: 0.8055 - val_loss: 0.4386 - val_accuracy: 0.7940\n",
            "Epoch 54/100\n",
            "100/100 - 17s - loss: 0.4433 - accuracy: 0.7840 - val_loss: 0.4461 - val_accuracy: 0.7780\n",
            "Epoch 55/100\n",
            "100/100 - 17s - loss: 0.4342 - accuracy: 0.7975 - val_loss: 0.5262 - val_accuracy: 0.7410\n",
            "Epoch 56/100\n",
            "100/100 - 17s - loss: 0.4369 - accuracy: 0.7915 - val_loss: 0.4370 - val_accuracy: 0.7940\n",
            "Epoch 57/100\n",
            "100/100 - 17s - loss: 0.4360 - accuracy: 0.7870 - val_loss: 0.4178 - val_accuracy: 0.8090\n",
            "Epoch 58/100\n",
            "100/100 - 17s - loss: 0.4242 - accuracy: 0.8025 - val_loss: 0.4591 - val_accuracy: 0.7840\n",
            "Epoch 59/100\n",
            "100/100 - 17s - loss: 0.4165 - accuracy: 0.8135 - val_loss: 0.4532 - val_accuracy: 0.7900\n",
            "Epoch 60/100\n",
            "100/100 - 17s - loss: 0.4400 - accuracy: 0.8005 - val_loss: 0.4157 - val_accuracy: 0.8040\n",
            "Epoch 61/100\n",
            "100/100 - 16s - loss: 0.4204 - accuracy: 0.8050 - val_loss: 0.4509 - val_accuracy: 0.7880\n",
            "Epoch 62/100\n",
            "100/100 - 17s - loss: 0.4239 - accuracy: 0.8050 - val_loss: 0.4824 - val_accuracy: 0.7730\n",
            "Epoch 63/100\n",
            "100/100 - 17s - loss: 0.4193 - accuracy: 0.8120 - val_loss: 0.4642 - val_accuracy: 0.7760\n",
            "Epoch 64/100\n",
            "100/100 - 17s - loss: 0.4205 - accuracy: 0.8105 - val_loss: 0.4086 - val_accuracy: 0.8040\n",
            "Epoch 65/100\n",
            "100/100 - 17s - loss: 0.4135 - accuracy: 0.8150 - val_loss: 0.4483 - val_accuracy: 0.7790\n",
            "Epoch 66/100\n",
            "100/100 - 16s - loss: 0.4256 - accuracy: 0.7980 - val_loss: 0.4484 - val_accuracy: 0.7880\n",
            "Epoch 67/100\n",
            "100/100 - 17s - loss: 0.3961 - accuracy: 0.8210 - val_loss: 0.4026 - val_accuracy: 0.8120\n",
            "Epoch 68/100\n",
            "100/100 - 17s - loss: 0.4071 - accuracy: 0.8160 - val_loss: 0.6530 - val_accuracy: 0.7640\n",
            "Epoch 69/100\n",
            "100/100 - 17s - loss: 0.4179 - accuracy: 0.8050 - val_loss: 0.4237 - val_accuracy: 0.8040\n",
            "Epoch 70/100\n",
            "100/100 - 17s - loss: 0.4285 - accuracy: 0.8065 - val_loss: 0.4251 - val_accuracy: 0.7990\n",
            "Epoch 71/100\n",
            "100/100 - 17s - loss: 0.4053 - accuracy: 0.8145 - val_loss: 0.5523 - val_accuracy: 0.7560\n",
            "Epoch 72/100\n",
            "100/100 - 17s - loss: 0.4143 - accuracy: 0.8025 - val_loss: 0.4599 - val_accuracy: 0.7770\n",
            "Epoch 73/100\n",
            "100/100 - 17s - loss: 0.4072 - accuracy: 0.8145 - val_loss: 0.4130 - val_accuracy: 0.8140\n",
            "Epoch 74/100\n",
            "100/100 - 17s - loss: 0.3923 - accuracy: 0.8210 - val_loss: 0.4408 - val_accuracy: 0.7920\n",
            "Epoch 75/100\n",
            "100/100 - 17s - loss: 0.3958 - accuracy: 0.8145 - val_loss: 0.4176 - val_accuracy: 0.8070\n",
            "Epoch 76/100\n",
            "100/100 - 17s - loss: 0.4060 - accuracy: 0.8135 - val_loss: 0.4082 - val_accuracy: 0.8010\n",
            "Epoch 77/100\n",
            "100/100 - 17s - loss: 0.3976 - accuracy: 0.8155 - val_loss: 0.4815 - val_accuracy: 0.7820\n",
            "Epoch 78/100\n",
            "100/100 - 17s - loss: 0.3880 - accuracy: 0.8315 - val_loss: 0.5474 - val_accuracy: 0.7610\n",
            "Epoch 79/100\n",
            "100/100 - 17s - loss: 0.3782 - accuracy: 0.8340 - val_loss: 0.4194 - val_accuracy: 0.8140\n",
            "Epoch 80/100\n",
            "100/100 - 17s - loss: 0.3840 - accuracy: 0.8220 - val_loss: 0.4044 - val_accuracy: 0.8120\n",
            "Epoch 81/100\n",
            "100/100 - 17s - loss: 0.3805 - accuracy: 0.8335 - val_loss: 0.4534 - val_accuracy: 0.7820\n",
            "Epoch 82/100\n",
            "100/100 - 17s - loss: 0.3728 - accuracy: 0.8375 - val_loss: 0.4189 - val_accuracy: 0.7970\n",
            "Epoch 83/100\n",
            "100/100 - 17s - loss: 0.3882 - accuracy: 0.8235 - val_loss: 0.4219 - val_accuracy: 0.8050\n",
            "Epoch 84/100\n",
            "100/100 - 17s - loss: 0.3808 - accuracy: 0.8230 - val_loss: 0.4569 - val_accuracy: 0.7870\n",
            "Epoch 85/100\n",
            "100/100 - 17s - loss: 0.3793 - accuracy: 0.8300 - val_loss: 0.4188 - val_accuracy: 0.8120\n",
            "Epoch 86/100\n",
            "100/100 - 17s - loss: 0.3714 - accuracy: 0.8315 - val_loss: 0.4156 - val_accuracy: 0.8040\n",
            "Epoch 87/100\n",
            "100/100 - 17s - loss: 0.3684 - accuracy: 0.8265 - val_loss: 0.4275 - val_accuracy: 0.8170\n",
            "Epoch 88/100\n",
            "100/100 - 17s - loss: 0.3817 - accuracy: 0.8325 - val_loss: 0.4129 - val_accuracy: 0.8130\n",
            "Epoch 89/100\n",
            "100/100 - 17s - loss: 0.3690 - accuracy: 0.8280 - val_loss: 0.4132 - val_accuracy: 0.8140\n",
            "Epoch 90/100\n",
            "100/100 - 17s - loss: 0.3703 - accuracy: 0.8290 - val_loss: 0.3986 - val_accuracy: 0.8270\n",
            "Epoch 91/100\n",
            "100/100 - 17s - loss: 0.3706 - accuracy: 0.8300 - val_loss: 0.4976 - val_accuracy: 0.7840\n",
            "Epoch 92/100\n",
            "100/100 - 17s - loss: 0.3717 - accuracy: 0.8280 - val_loss: 0.4052 - val_accuracy: 0.8270\n",
            "Epoch 93/100\n",
            "100/100 - 17s - loss: 0.3636 - accuracy: 0.8470 - val_loss: 0.4102 - val_accuracy: 0.8120\n",
            "Epoch 94/100\n",
            "100/100 - 17s - loss: 0.3674 - accuracy: 0.8405 - val_loss: 0.4275 - val_accuracy: 0.8050\n",
            "Epoch 95/100\n",
            "100/100 - 17s - loss: 0.3596 - accuracy: 0.8425 - val_loss: 0.4316 - val_accuracy: 0.8100\n",
            "Epoch 96/100\n",
            "100/100 - 17s - loss: 0.3415 - accuracy: 0.8535 - val_loss: 0.3841 - val_accuracy: 0.8250\n",
            "Epoch 97/100\n",
            "100/100 - 17s - loss: 0.3600 - accuracy: 0.8460 - val_loss: 0.5075 - val_accuracy: 0.7750\n",
            "Epoch 98/100\n",
            "100/100 - 17s - loss: 0.3586 - accuracy: 0.8400 - val_loss: 0.4046 - val_accuracy: 0.8110\n",
            "Epoch 99/100\n",
            "100/100 - 17s - loss: 0.3392 - accuracy: 0.8500 - val_loss: 0.3951 - val_accuracy: 0.8250\n",
            "Epoch 100/100\n",
            "100/100 - 17s - loss: 0.3491 - accuracy: 0.8450 - val_loss: 0.3802 - val_accuracy: 0.8230\n"
          ],
          "name": "stdout"
        }
      ]
    },
    {
      "cell_type": "code",
      "metadata": {
        "id": "mS642qa77meO",
        "colab_type": "code",
        "colab": {
          "base_uri": "https://localhost:8080/",
          "height": 545
        },
        "outputId": "8d937dc4-5e3a-4a78-e305-601dcfd9d118"
      },
      "source": [
        "# Plotting accuracy\n",
        "import matplotlib.pyplot as plt\n",
        "acc = history.history['accuracy']\n",
        "val_acc = history.history['val_accuracy']\n",
        "loss = history.history['loss']\n",
        "val_loss = history.history['val_loss']\n",
        "\n",
        "epochs = range(len(acc))\n",
        "\n",
        "plt.plot(epochs, acc, 'bo', label='Training accuracy')\n",
        "plt.plot(epochs, val_acc, 'b', label='Validation accuracy')\n",
        "plt.title('Training and validation accuracy')\n",
        "\n",
        "plt.figure()\n",
        "\n",
        "plt.plot(epochs, loss, 'bo', label='Training Loss')\n",
        "plt.plot(epochs, val_loss, 'b', label='Validation Loss')\n",
        "plt.title('Training and validation loss')\n",
        "plt.legend()\n",
        "\n",
        "plt.show()"
      ],
      "execution_count": 15,
      "outputs": [
        {
          "output_type": "display_data",
          "data": {
            "image/png": "[encoded data removed]",
            "text/plain": [
              "<Figure size 432x288 with 1 Axes>"
            ]
          },
          "metadata": {
            "tags": [],
            "needs_background": "light"
          }
        },
        {
          "output_type": "display_data",
          "data": {
            "image/png": "[encoded data removed]",
            "text/plain": [
              "<Figure size 432x288 with 1 Axes>"
            ]
          },
          "metadata": {
            "tags": [],
            "needs_background": "light"
          }
        }
      ]
    },
    {
      "cell_type": "code",
      "metadata": {
        "id": "Hyi4CLkFE-T8",
        "colab_type": "code",
        "colab": {}
      },
      "source": [
        "# Clean up\n",
        "import os, signal\n",
        "\n",
        "os.kill(     os.getpid() , \n",
        "         signal.SIGKILL\n",
        "       )"
      ],
      "execution_count": 0,
      "outputs": []
    },
    {
      "cell_type": "code",
      "metadata": {
        "id": "rryYh4M2FNwW",
        "colab_type": "code",
        "colab": {}
      },
      "source": [
        ""
      ],
      "execution_count": 0,
      "outputs": []
    }
  ]
}
