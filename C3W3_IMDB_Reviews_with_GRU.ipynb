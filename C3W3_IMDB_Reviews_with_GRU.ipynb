{
  "nbformat": 4,
  "nbformat_minor": 0,
  "metadata": {
    "colab": {
      "name": "C3W3_IMDB_Reviews_with_GRU.ipynb",
      "provenance": [],
      "authorship_tag": "ABX9TyOZeKj2+Y5B+unfRTADqkp8",
      "include_colab_link": true
    },
    "kernelspec": {
      "name": "python3",
      "display_name": "Python 3"
    },
    "accelerator": "GPU"
  },
  "cells": [
    {
      "cell_type": "markdown",
      "metadata": {
        "id": "view-in-github",
        "colab_type": "text"
      },
      "source": [
        "<a href=\"https://colab.research.google.com/github/akiabe/coursera-dl-tf-in-practice/blob/master/C3W3_IMDB_Reviews_with_GRU.ipynb\" target=\"_parent\"><img src=\"https://colab.research.google.com/assets/colab-badge.svg\" alt=\"Open In Colab\"/></a>"
      ]
    },
    {
      "cell_type": "code",
      "metadata": {
        "id": "DFbF9eOLjfm7",
        "colab_type": "code",
        "colab": {
          "base_uri": "https://localhost:8080/",
          "height": 34
        },
        "outputId": "d522ed22-2679-431c-af0c-d41b92163880"
      },
      "source": [
        "import tensorflow as tf\n",
        "print(tf.__version__)"
      ],
      "execution_count": 8,
      "outputs": [
        {
          "output_type": "stream",
          "text": [
            "2.2.0\n"
          ],
          "name": "stdout"
        }
      ]
    },
    {
      "cell_type": "code",
      "metadata": {
        "id": "dspXolPseGeh",
        "colab_type": "code",
        "colab": {}
      },
      "source": [
        "# Import TensorFlow datasets\n",
        "import tensorflow_datasets as tfds\n",
        "\n",
        "# Define imdb set and info set which contain 50,000 movie reviews which are classified as positive of negative\n",
        "imdb, info = tfds.load(\"imdb_reviews\", with_info=True, as_supervised=True)"
      ],
      "execution_count": 0,
      "outputs": []
    },
    {
      "cell_type": "code",
      "metadata": {
        "id": "2xx33Ogwfq83",
        "colab_type": "code",
        "colab": {}
      },
      "source": [
        "import numpy as np\n",
        "\n",
        "# Get imdb training and test data\n",
        "train_data, test_data = imdb['train'], imdb['test']\n",
        "\n",
        "# Create sentences and labels list\n",
        "training_sentences = []\n",
        "training_labels = []\n",
        "\n",
        "testing_sentences = []\n",
        "testing_labels = []\n",
        "\n",
        "# Copy the contents of tensors into lists\n",
        "for s,l in train_data:\n",
        "  training_sentences.append(str(s.numpy()))\n",
        "  training_labels.append(l.numpy())\n",
        "  \n",
        "for s,l in test_data:\n",
        "  testing_sentences.append(str(s.numpy()))\n",
        "  testing_labels.append(l.numpy())\n",
        "\n",
        "# Convert training and testing labels into np.array   \n",
        "training_labels_final = np.array(training_labels)\n",
        "testing_labels_final = np.array(testing_labels)"
      ],
      "execution_count": 0,
      "outputs": []
    },
    {
      "cell_type": "code",
      "metadata": {
        "id": "K82NDSyjiROE",
        "colab_type": "code",
        "colab": {
          "base_uri": "https://localhost:8080/",
          "height": 87
        },
        "outputId": "759dff7c-de9e-46ec-fb20-3ede150db77b"
      },
      "source": [
        "# Check file numbers\n",
        "print(\"training_sentences numbers: \", len(training_sentences))\n",
        "print(\"training_labels numbers: \", len(training_labels))\n",
        "print(\"testing_sentences numbers: \", len(testing_sentences))\n",
        "print(\"testing_labels numbers: \", len(testing_labels))"
      ],
      "execution_count": 11,
      "outputs": [
        {
          "output_type": "stream",
          "text": [
            "training_sentences numbers:  25000\n",
            "training_labels numbers:  25000\n",
            "testing_sentences numbers:  25000\n",
            "testing_labels numbers:  25000\n"
          ],
          "name": "stdout"
        }
      ]
    },
    {
      "cell_type": "code",
      "metadata": {
        "id": "1Db_ZxHNftxP",
        "colab_type": "code",
        "colab": {}
      },
      "source": [
        "# Hyperparameters\n",
        "vocab_size = 10000\n",
        "embedding_dim = 16\n",
        "max_length = 120\n",
        "trunc_type='post'\n",
        "oov_tok = \"<OOV>\"\n",
        "\n",
        "from tensorflow.keras.preprocessing.text import Tokenizer\n",
        "from tensorflow.keras.preprocessing.sequence import pad_sequences\n",
        "\n",
        "# Instantiate tokenizer\n",
        "tokenizer = Tokenizer(num_words = vocab_size, oov_token=oov_tok)\n",
        "\n",
        "# Tokenizer will then be fit on the training_sentences\n",
        "tokenizer.fit_on_texts(training_sentences)\n",
        "\n",
        "# Word index of tokenizer\n",
        "word_index = tokenizer.word_index\n",
        "\n",
        "# Convert training_sentences into sequence of numbers\n",
        "sequences = tokenizer.texts_to_sequences(training_sentences)\n",
        "# Padding zero after the sentense\n",
        "padded = pad_sequences(sequences,maxlen=max_length, truncating=trunc_type)\n",
        "\n",
        "# Convert testing_sequences into sequence of numbers and padding them\n",
        "testing_sequences = tokenizer.texts_to_sequences(testing_sentences)\n",
        "testing_padded = pad_sequences(testing_sequences,maxlen=max_length)"
      ],
      "execution_count": 0,
      "outputs": []
    },
    {
      "cell_type": "code",
      "metadata": {
        "id": "JUk8byEwfwq4",
        "colab_type": "code",
        "colab": {
          "base_uri": "https://localhost:8080/",
          "height": 72
        },
        "outputId": "2843a7ab-8834-406c-85c6-85077da68d70"
      },
      "source": [
        "# Convert word_index form to the form {5: 'mother', 6: 'father'}\n",
        "reverse_word_index = dict([(value, key) for (key, value) in word_index.items()])\n",
        "\n",
        "def decode_review(text):\n",
        "    return ' '.join([reverse_word_index.get(i, '?') for i in text])\n",
        "\n",
        "print(decode_review(padded[1]))\n",
        "print(training_sentences[1])"
      ],
      "execution_count": 13,
      "outputs": [
        {
          "output_type": "stream",
          "text": [
            "? ? ? ? ? ? ? b'i have been known to fall asleep during films but this is usually due to a combination of things including really tired being warm and comfortable on the <OOV> and having just eaten a lot however on this occasion i fell asleep because the film was rubbish the plot development was constant constantly slow and boring things seemed to happen but with no explanation of what was causing them or why i admit i may have missed part of the film but i watched the majority of it and everything just seemed to happen of its own <OOV> without any real concern for anything else i cant recommend this film at all '\n",
            "b'I have been known to fall asleep during films, but this is usually due to a combination of things including, really tired, being warm and comfortable on the sette and having just eaten a lot. However on this occasion I fell asleep because the film was rubbish. The plot development was constant. Constantly slow and boring. Things seemed to happen, but with no explanation of what was causing them or why. I admit, I may have missed part of the film, but i watched the majority of it and everything just seemed to happen of its own accord without any real concern for anything else. I cant recommend this film at all.'\n"
          ],
          "name": "stdout"
        }
      ]
    },
    {
      "cell_type": "code",
      "metadata": {
        "id": "Z3YeYlwAfytu",
        "colab_type": "code",
        "colab": {
          "base_uri": "https://localhost:8080/",
          "height": 301
        },
        "outputId": "142576fc-c273-4093-b1cf-6a986f07f8e7"
      },
      "source": [
        "# Build the model with GRU\n",
        "model = tf.keras.Sequential([\n",
        "    tf.keras.layers.Embedding(vocab_size, embedding_dim, input_length=max_length),\n",
        "    tf.keras.layers.Bidirectional(tf.keras.layers.GRU(32)),\n",
        "    tf.keras.layers.Dense(6, activation='relu'),\n",
        "    tf.keras.layers.Dense(1, activation='sigmoid')\n",
        "])\n",
        "\n",
        "model.compile(\n",
        "    loss='binary_crossentropy',\n",
        "    optimizer='adam',\n",
        "    metrics=['accuracy']\n",
        ")\n",
        "\n",
        "model.summary()"
      ],
      "execution_count": 14,
      "outputs": [
        {
          "output_type": "stream",
          "text": [
            "Model: \"sequential\"\n",
            "_________________________________________________________________\n",
            "Layer (type)                 Output Shape              Param #   \n",
            "=================================================================\n",
            "embedding (Embedding)        (None, 120, 16)           160000    \n",
            "_________________________________________________________________\n",
            "bidirectional (Bidirectional (None, 64)                9600      \n",
            "_________________________________________________________________\n",
            "dense (Dense)                (None, 6)                 390       \n",
            "_________________________________________________________________\n",
            "dense_1 (Dense)              (None, 1)                 7         \n",
            "=================================================================\n",
            "Total params: 169,997\n",
            "Trainable params: 169,997\n",
            "Non-trainable params: 0\n",
            "_________________________________________________________________\n"
          ],
          "name": "stdout"
        }
      ]
    },
    {
      "cell_type": "code",
      "metadata": {
        "id": "PeCSZXdPf1U_",
        "colab_type": "code",
        "colab": {
          "base_uri": "https://localhost:8080/",
          "height": 1000
        },
        "outputId": "05602806-67a7-4da0-a675-78bf816b253c"
      },
      "source": [
        "# Training the model\n",
        "num_epochs = 50\n",
        "\n",
        "history = model.fit(\n",
        "    padded,\n",
        "    training_labels_final,\n",
        "    epochs=num_epochs,\n",
        "    validation_data=(testing_padded, testing_labels_final)\n",
        ")"
      ],
      "execution_count": 15,
      "outputs": [
        {
          "output_type": "stream",
          "text": [
            "Epoch 1/50\n",
            "782/782 [==============================] - 15s 19ms/step - loss: 0.5384 - accuracy: 0.6923 - val_loss: 0.3546 - val_accuracy: 0.8470\n",
            "Epoch 2/50\n",
            "782/782 [==============================] - 14s 18ms/step - loss: 0.3032 - accuracy: 0.8761 - val_loss: 0.3493 - val_accuracy: 0.8468\n",
            "Epoch 3/50\n",
            "782/782 [==============================] - 15s 19ms/step - loss: 0.2292 - accuracy: 0.9122 - val_loss: 0.3852 - val_accuracy: 0.8361\n",
            "Epoch 4/50\n",
            "782/782 [==============================] - 15s 19ms/step - loss: 0.1731 - accuracy: 0.9360 - val_loss: 0.4447 - val_accuracy: 0.8324\n",
            "Epoch 5/50\n",
            "782/782 [==============================] - 15s 19ms/step - loss: 0.1278 - accuracy: 0.9564 - val_loss: 0.5360 - val_accuracy: 0.8211\n",
            "Epoch 6/50\n",
            "782/782 [==============================] - 14s 18ms/step - loss: 0.0944 - accuracy: 0.9684 - val_loss: 0.5874 - val_accuracy: 0.8198\n",
            "Epoch 7/50\n",
            "782/782 [==============================] - 14s 18ms/step - loss: 0.0668 - accuracy: 0.9786 - val_loss: 0.6526 - val_accuracy: 0.8188\n",
            "Epoch 8/50\n",
            "782/782 [==============================] - 14s 18ms/step - loss: 0.0499 - accuracy: 0.9837 - val_loss: 0.7246 - val_accuracy: 0.8132\n",
            "Epoch 9/50\n",
            "782/782 [==============================] - 14s 18ms/step - loss: 0.0340 - accuracy: 0.9900 - val_loss: 0.8340 - val_accuracy: 0.8114\n",
            "Epoch 10/50\n",
            "782/782 [==============================] - 14s 18ms/step - loss: 0.0308 - accuracy: 0.9896 - val_loss: 0.8749 - val_accuracy: 0.8106\n",
            "Epoch 11/50\n",
            "782/782 [==============================] - 14s 18ms/step - loss: 0.0274 - accuracy: 0.9908 - val_loss: 0.9073 - val_accuracy: 0.8066\n",
            "Epoch 12/50\n",
            "782/782 [==============================] - 14s 18ms/step - loss: 0.0212 - accuracy: 0.9925 - val_loss: 0.9483 - val_accuracy: 0.8070\n",
            "Epoch 13/50\n",
            "782/782 [==============================] - 14s 18ms/step - loss: 0.0124 - accuracy: 0.9959 - val_loss: 1.0928 - val_accuracy: 0.8066\n",
            "Epoch 14/50\n",
            "782/782 [==============================] - 14s 18ms/step - loss: 0.0111 - accuracy: 0.9963 - val_loss: 1.2221 - val_accuracy: 0.8098\n",
            "Epoch 15/50\n",
            "782/782 [==============================] - 14s 18ms/step - loss: 0.0101 - accuracy: 0.9970 - val_loss: 1.2128 - val_accuracy: 0.8074\n",
            "Epoch 16/50\n",
            "782/782 [==============================] - 14s 18ms/step - loss: 0.0104 - accuracy: 0.9961 - val_loss: 1.1972 - val_accuracy: 0.8054\n",
            "Epoch 17/50\n",
            "782/782 [==============================] - 14s 18ms/step - loss: 0.0094 - accuracy: 0.9968 - val_loss: 1.2710 - val_accuracy: 0.8094\n",
            "Epoch 18/50\n",
            "782/782 [==============================] - 14s 18ms/step - loss: 0.0057 - accuracy: 0.9980 - val_loss: 1.3350 - val_accuracy: 0.8081\n",
            "Epoch 19/50\n",
            "782/782 [==============================] - 14s 18ms/step - loss: 0.0090 - accuracy: 0.9973 - val_loss: 1.3375 - val_accuracy: 0.8065\n",
            "Epoch 20/50\n",
            "782/782 [==============================] - 14s 18ms/step - loss: 0.0074 - accuracy: 0.9975 - val_loss: 1.2618 - val_accuracy: 0.8078\n",
            "Epoch 21/50\n",
            "782/782 [==============================] - 14s 18ms/step - loss: 0.0079 - accuracy: 0.9972 - val_loss: 1.2591 - val_accuracy: 0.8038\n",
            "Epoch 22/50\n",
            "782/782 [==============================] - 14s 18ms/step - loss: 0.0050 - accuracy: 0.9983 - val_loss: 1.3624 - val_accuracy: 0.8013\n",
            "Epoch 23/50\n",
            "782/782 [==============================] - 14s 18ms/step - loss: 0.0038 - accuracy: 0.9986 - val_loss: 1.4775 - val_accuracy: 0.8034\n",
            "Epoch 24/50\n",
            "782/782 [==============================] - 14s 18ms/step - loss: 0.0041 - accuracy: 0.9989 - val_loss: 1.5141 - val_accuracy: 0.8020\n",
            "Epoch 25/50\n",
            "782/782 [==============================] - 14s 18ms/step - loss: 0.0039 - accuracy: 0.9988 - val_loss: 1.5159 - val_accuracy: 0.8055\n",
            "Epoch 26/50\n",
            "782/782 [==============================] - 15s 19ms/step - loss: 0.0028 - accuracy: 0.9990 - val_loss: 1.6011 - val_accuracy: 0.8024\n",
            "Epoch 27/50\n",
            "782/782 [==============================] - 14s 18ms/step - loss: 0.0059 - accuracy: 0.9979 - val_loss: 1.4355 - val_accuracy: 0.8033\n",
            "Epoch 28/50\n",
            "782/782 [==============================] - 14s 18ms/step - loss: 0.0047 - accuracy: 0.9984 - val_loss: 1.5508 - val_accuracy: 0.8077\n",
            "Epoch 29/50\n",
            "782/782 [==============================] - 14s 18ms/step - loss: 0.0037 - accuracy: 0.9986 - val_loss: 1.5507 - val_accuracy: 0.8015\n",
            "Epoch 30/50\n",
            "782/782 [==============================] - 14s 18ms/step - loss: 0.0022 - accuracy: 0.9994 - val_loss: 1.5736 - val_accuracy: 0.8044\n",
            "Epoch 31/50\n",
            "782/782 [==============================] - 14s 18ms/step - loss: 9.0322e-04 - accuracy: 0.9997 - val_loss: 1.6908 - val_accuracy: 0.7992\n",
            "Epoch 32/50\n",
            "782/782 [==============================] - 14s 18ms/step - loss: 1.7138e-04 - accuracy: 1.0000 - val_loss: 1.8030 - val_accuracy: 0.8014\n",
            "Epoch 33/50\n",
            "782/782 [==============================] - 14s 18ms/step - loss: 4.1270e-05 - accuracy: 1.0000 - val_loss: 1.8604 - val_accuracy: 0.8027\n",
            "Epoch 34/50\n",
            "782/782 [==============================] - 14s 18ms/step - loss: 1.1769e-05 - accuracy: 1.0000 - val_loss: 1.9140 - val_accuracy: 0.8032\n",
            "Epoch 35/50\n",
            "782/782 [==============================] - 14s 18ms/step - loss: 8.0038e-06 - accuracy: 1.0000 - val_loss: 1.9681 - val_accuracy: 0.8033\n",
            "Epoch 36/50\n",
            "782/782 [==============================] - 14s 18ms/step - loss: 5.5273e-06 - accuracy: 1.0000 - val_loss: 2.0237 - val_accuracy: 0.8038\n",
            "Epoch 37/50\n",
            "782/782 [==============================] - 14s 18ms/step - loss: 3.8216e-06 - accuracy: 1.0000 - val_loss: 2.0823 - val_accuracy: 0.8040\n",
            "Epoch 38/50\n",
            "782/782 [==============================] - 14s 18ms/step - loss: 2.6270e-06 - accuracy: 1.0000 - val_loss: 2.1420 - val_accuracy: 0.8044\n",
            "Epoch 39/50\n",
            "782/782 [==============================] - 14s 18ms/step - loss: 1.7945e-06 - accuracy: 1.0000 - val_loss: 2.2045 - val_accuracy: 0.8041\n",
            "Epoch 40/50\n",
            "782/782 [==============================] - 14s 18ms/step - loss: 1.2177e-06 - accuracy: 1.0000 - val_loss: 2.2679 - val_accuracy: 0.8042\n",
            "Epoch 41/50\n",
            "782/782 [==============================] - 14s 18ms/step - loss: 8.2168e-07 - accuracy: 1.0000 - val_loss: 2.3329 - val_accuracy: 0.8039\n",
            "Epoch 42/50\n",
            "782/782 [==============================] - 14s 18ms/step - loss: 5.5329e-07 - accuracy: 1.0000 - val_loss: 2.3985 - val_accuracy: 0.8039\n",
            "Epoch 43/50\n",
            "782/782 [==============================] - 14s 18ms/step - loss: 3.6992e-07 - accuracy: 1.0000 - val_loss: 2.4658 - val_accuracy: 0.8036\n",
            "Epoch 44/50\n",
            "782/782 [==============================] - 14s 18ms/step - loss: 2.4735e-07 - accuracy: 1.0000 - val_loss: 2.5349 - val_accuracy: 0.8033\n",
            "Epoch 45/50\n",
            "782/782 [==============================] - 14s 18ms/step - loss: 1.6544e-07 - accuracy: 1.0000 - val_loss: 2.6014 - val_accuracy: 0.8032\n",
            "Epoch 46/50\n",
            "782/782 [==============================] - 14s 18ms/step - loss: 1.1039e-07 - accuracy: 1.0000 - val_loss: 2.6705 - val_accuracy: 0.8032\n",
            "Epoch 47/50\n",
            "782/782 [==============================] - 14s 18ms/step - loss: 7.4074e-08 - accuracy: 1.0000 - val_loss: 2.7383 - val_accuracy: 0.8034\n",
            "Epoch 48/50\n",
            "782/782 [==============================] - 15s 19ms/step - loss: 4.9903e-08 - accuracy: 1.0000 - val_loss: 2.8062 - val_accuracy: 0.8035\n",
            "Epoch 49/50\n",
            "782/782 [==============================] - 14s 18ms/step - loss: 3.3565e-08 - accuracy: 1.0000 - val_loss: 2.8750 - val_accuracy: 0.8032\n",
            "Epoch 50/50\n",
            "782/782 [==============================] - 14s 18ms/step - loss: 2.2865e-08 - accuracy: 1.0000 - val_loss: 2.9422 - val_accuracy: 0.8032\n"
          ],
          "name": "stdout"
        }
      ]
    },
    {
      "cell_type": "code",
      "metadata": {
        "id": "jM1ysRGFf5p2",
        "colab_type": "code",
        "colab": {
          "base_uri": "https://localhost:8080/",
          "height": 541
        },
        "outputId": "ddcfb3d8-915d-49c9-f2b0-d14035da70f9"
      },
      "source": [
        "import matplotlib.pyplot as plt\n",
        "\n",
        "def plot_graphs(history, string):\n",
        "  plt.plot(history.history[string])\n",
        "  plt.plot(history.history['val_'+string])\n",
        "  plt.xlabel(\"Epochs\")\n",
        "  plt.ylabel(string)\n",
        "  plt.legend([string, 'val_'+string])\n",
        "  plt.show()\n",
        "\n",
        "plot_graphs(history, 'accuracy')\n",
        "plot_graphs(history, 'loss')"
      ],
      "execution_count": 16,
      "outputs": [
        {
          "output_type": "display_data",
          "data": {
            "image/png": "[encoded data removed]",
            "text/plain": [
              "<Figure size 432x288 with 1 Axes>"
            ]
          },
          "metadata": {
            "tags": [],
            "needs_background": "light"
          }
        },
        {
          "output_type": "display_data",
          "data": {
            "image/png": "[encoded data removed]",
            "text/plain": [
              "<Figure size 432x288 with 1 Axes>"
            ]
          },
          "metadata": {
            "tags": [],
            "needs_background": "light"
          }
        }
      ]
    },
    {
      "cell_type": "code",
      "metadata": {
        "id": "6b0Tl6nBf81O",
        "colab_type": "code",
        "colab": {
          "base_uri": "https://localhost:8080/",
          "height": 301
        },
        "outputId": "ed3ed527-6daa-498a-f4e6-95e5f40af114"
      },
      "source": [
        "# Model Definition with LSTM\n",
        "model = tf.keras.Sequential([\n",
        "    tf.keras.layers.Embedding(vocab_size, embedding_dim, input_length=max_length),\n",
        "    tf.keras.layers.Bidirectional(tf.keras.layers.LSTM(32)),\n",
        "    tf.keras.layers.Dense(6, activation='relu'),\n",
        "    tf.keras.layers.Dense(1, activation='sigmoid')\n",
        "])\n",
        "\n",
        "model.compile(\n",
        "    loss='binary_crossentropy',\n",
        "    optimizer='adam',\n",
        "    metrics=['accuracy']\n",
        ")\n",
        "\n",
        "model.summary()"
      ],
      "execution_count": 17,
      "outputs": [
        {
          "output_type": "stream",
          "text": [
            "Model: \"sequential_1\"\n",
            "_________________________________________________________________\n",
            "Layer (type)                 Output Shape              Param #   \n",
            "=================================================================\n",
            "embedding_1 (Embedding)      (None, 120, 16)           160000    \n",
            "_________________________________________________________________\n",
            "bidirectional_1 (Bidirection (None, 64)                12544     \n",
            "_________________________________________________________________\n",
            "dense_2 (Dense)              (None, 6)                 390       \n",
            "_________________________________________________________________\n",
            "dense_3 (Dense)              (None, 1)                 7         \n",
            "=================================================================\n",
            "Total params: 172,941\n",
            "Trainable params: 172,941\n",
            "Non-trainable params: 0\n",
            "_________________________________________________________________\n"
          ],
          "name": "stdout"
        }
      ]
    },
    {
      "cell_type": "code",
      "metadata": {
        "id": "SG9ERrkMkhwX",
        "colab_type": "code",
        "colab": {
          "base_uri": "https://localhost:8080/",
          "height": 1000
        },
        "outputId": "8cac9fdf-5ade-4158-e4d2-71706cd13bfa"
      },
      "source": [
        "# Training the model\n",
        "num_epochs = 50\n",
        "\n",
        "history = model.fit(\n",
        "    padded,\n",
        "    training_labels_final,\n",
        "    epochs=num_epochs,\n",
        "    validation_data=(testing_padded, testing_labels_final)\n",
        ")"
      ],
      "execution_count": 18,
      "outputs": [
        {
          "output_type": "stream",
          "text": [
            "Epoch 1/50\n",
            "782/782 [==============================] - 15s 19ms/step - loss: 0.5212 - accuracy: 0.7310 - val_loss: 0.4636 - val_accuracy: 0.8194\n",
            "Epoch 2/50\n",
            "782/782 [==============================] - 15s 19ms/step - loss: 0.3186 - accuracy: 0.8727 - val_loss: 0.3949 - val_accuracy: 0.8376\n",
            "Epoch 3/50\n",
            "782/782 [==============================] - 14s 18ms/step - loss: 0.2476 - accuracy: 0.9071 - val_loss: 0.5449 - val_accuracy: 0.8137\n",
            "Epoch 4/50\n",
            "782/782 [==============================] - 14s 18ms/step - loss: 0.2022 - accuracy: 0.9264 - val_loss: 0.4336 - val_accuracy: 0.8326\n",
            "Epoch 5/50\n",
            "782/782 [==============================] - 14s 18ms/step - loss: 0.1598 - accuracy: 0.9432 - val_loss: 0.4960 - val_accuracy: 0.8284\n",
            "Epoch 6/50\n",
            "782/782 [==============================] - 14s 18ms/step - loss: 0.1340 - accuracy: 0.9520 - val_loss: 0.6478 - val_accuracy: 0.8222\n",
            "Epoch 7/50\n",
            "782/782 [==============================] - 14s 18ms/step - loss: 0.1078 - accuracy: 0.9630 - val_loss: 0.6664 - val_accuracy: 0.8167\n",
            "Epoch 8/50\n",
            "782/782 [==============================] - 14s 18ms/step - loss: 0.0793 - accuracy: 0.9736 - val_loss: 0.8468 - val_accuracy: 0.8152\n",
            "Epoch 9/50\n",
            "782/782 [==============================] - 14s 18ms/step - loss: 0.0727 - accuracy: 0.9756 - val_loss: 0.7879 - val_accuracy: 0.8210\n",
            "Epoch 10/50\n",
            "782/782 [==============================] - 14s 18ms/step - loss: 0.0636 - accuracy: 0.9802 - val_loss: 0.9113 - val_accuracy: 0.8189\n",
            "Epoch 11/50\n",
            "782/782 [==============================] - 14s 18ms/step - loss: 0.0563 - accuracy: 0.9818 - val_loss: 0.7937 - val_accuracy: 0.8115\n",
            "Epoch 12/50\n",
            "782/782 [==============================] - 15s 19ms/step - loss: 0.0481 - accuracy: 0.9853 - val_loss: 0.9450 - val_accuracy: 0.8172\n",
            "Epoch 13/50\n",
            "782/782 [==============================] - 15s 19ms/step - loss: 0.0433 - accuracy: 0.9859 - val_loss: 0.8587 - val_accuracy: 0.8032\n",
            "Epoch 14/50\n",
            "782/782 [==============================] - 14s 18ms/step - loss: 0.0313 - accuracy: 0.9913 - val_loss: 1.0814 - val_accuracy: 0.8142\n",
            "Epoch 15/50\n",
            "782/782 [==============================] - 14s 18ms/step - loss: 0.0337 - accuracy: 0.9895 - val_loss: 1.0119 - val_accuracy: 0.8066\n",
            "Epoch 16/50\n",
            "782/782 [==============================] - 14s 18ms/step - loss: 0.0363 - accuracy: 0.9893 - val_loss: 1.1735 - val_accuracy: 0.8077\n",
            "Epoch 17/50\n",
            "782/782 [==============================] - 14s 18ms/step - loss: 0.0265 - accuracy: 0.9920 - val_loss: 1.2178 - val_accuracy: 0.8075\n",
            "Epoch 18/50\n",
            "782/782 [==============================] - 14s 18ms/step - loss: 0.0218 - accuracy: 0.9930 - val_loss: 1.1495 - val_accuracy: 0.8150\n",
            "Epoch 19/50\n",
            "782/782 [==============================] - 15s 19ms/step - loss: 0.0209 - accuracy: 0.9940 - val_loss: 1.2118 - val_accuracy: 0.8081\n",
            "Epoch 20/50\n",
            "782/782 [==============================] - 15s 19ms/step - loss: 0.0183 - accuracy: 0.9950 - val_loss: 1.1921 - val_accuracy: 0.8122\n",
            "Epoch 21/50\n",
            "782/782 [==============================] - 14s 18ms/step - loss: 0.0275 - accuracy: 0.9923 - val_loss: 1.2021 - val_accuracy: 0.8105\n",
            "Epoch 22/50\n",
            "782/782 [==============================] - 14s 18ms/step - loss: 0.0147 - accuracy: 0.9958 - val_loss: 1.1427 - val_accuracy: 0.8063\n",
            "Epoch 23/50\n",
            "782/782 [==============================] - 14s 18ms/step - loss: 0.0099 - accuracy: 0.9974 - val_loss: 1.1698 - val_accuracy: 0.8125\n",
            "Epoch 24/50\n",
            "782/782 [==============================] - 15s 19ms/step - loss: 0.0237 - accuracy: 0.9924 - val_loss: 1.0112 - val_accuracy: 0.8102\n",
            "Epoch 25/50\n",
            "782/782 [==============================] - 14s 18ms/step - loss: 0.0119 - accuracy: 0.9968 - val_loss: 1.2810 - val_accuracy: 0.8093\n",
            "Epoch 26/50\n",
            "782/782 [==============================] - 14s 18ms/step - loss: 0.0129 - accuracy: 0.9964 - val_loss: 1.2349 - val_accuracy: 0.8141\n",
            "Epoch 27/50\n",
            "782/782 [==============================] - 14s 18ms/step - loss: 0.0220 - accuracy: 0.9939 - val_loss: 1.0469 - val_accuracy: 0.8134\n",
            "Epoch 28/50\n",
            "782/782 [==============================] - 14s 18ms/step - loss: 0.0135 - accuracy: 0.9961 - val_loss: 1.1878 - val_accuracy: 0.8145\n",
            "Epoch 29/50\n",
            "782/782 [==============================] - 14s 18ms/step - loss: 0.0158 - accuracy: 0.9954 - val_loss: 1.2244 - val_accuracy: 0.8166\n",
            "Epoch 30/50\n",
            "782/782 [==============================] - 15s 19ms/step - loss: 0.0125 - accuracy: 0.9963 - val_loss: 1.2990 - val_accuracy: 0.8138\n",
            "Epoch 31/50\n",
            "782/782 [==============================] - 14s 18ms/step - loss: 0.0065 - accuracy: 0.9985 - val_loss: 1.2122 - val_accuracy: 0.8129\n",
            "Epoch 32/50\n",
            "782/782 [==============================] - 14s 18ms/step - loss: 0.0145 - accuracy: 0.9958 - val_loss: 1.2036 - val_accuracy: 0.8126\n",
            "Epoch 33/50\n",
            "782/782 [==============================] - 15s 19ms/step - loss: 0.0066 - accuracy: 0.9982 - val_loss: 1.3056 - val_accuracy: 0.8104\n",
            "Epoch 34/50\n",
            "782/782 [==============================] - 15s 19ms/step - loss: 0.0021 - accuracy: 0.9996 - val_loss: 1.4342 - val_accuracy: 0.8138\n",
            "Epoch 35/50\n",
            "782/782 [==============================] - 14s 19ms/step - loss: 1.8715e-04 - accuracy: 1.0000 - val_loss: 1.6155 - val_accuracy: 0.8137\n",
            "Epoch 36/50\n",
            "782/782 [==============================] - 14s 18ms/step - loss: 0.0095 - accuracy: 0.9973 - val_loss: 1.2075 - val_accuracy: 0.8124\n",
            "Epoch 37/50\n",
            "782/782 [==============================] - 14s 18ms/step - loss: 0.0160 - accuracy: 0.9952 - val_loss: 1.3246 - val_accuracy: 0.8127\n",
            "Epoch 38/50\n",
            "782/782 [==============================] - 14s 18ms/step - loss: 0.0048 - accuracy: 0.9990 - val_loss: 1.3448 - val_accuracy: 0.8140\n",
            "Epoch 39/50\n",
            "782/782 [==============================] - 14s 18ms/step - loss: 0.0029 - accuracy: 0.9994 - val_loss: 1.3108 - val_accuracy: 0.8138\n",
            "Epoch 40/50\n",
            "782/782 [==============================] - 14s 18ms/step - loss: 0.0055 - accuracy: 0.9988 - val_loss: 1.1982 - val_accuracy: 0.8083\n",
            "Epoch 41/50\n",
            "782/782 [==============================] - 15s 19ms/step - loss: 0.0178 - accuracy: 0.9945 - val_loss: 1.1991 - val_accuracy: 0.8110\n",
            "Epoch 42/50\n",
            "782/782 [==============================] - 14s 18ms/step - loss: 0.0071 - accuracy: 0.9981 - val_loss: 1.3198 - val_accuracy: 0.8125\n",
            "Epoch 43/50\n",
            "782/782 [==============================] - 14s 18ms/step - loss: 0.0051 - accuracy: 0.9988 - val_loss: 1.2609 - val_accuracy: 0.8148\n",
            "Epoch 44/50\n",
            "782/782 [==============================] - 14s 18ms/step - loss: 0.0017 - accuracy: 0.9998 - val_loss: 1.4246 - val_accuracy: 0.8104\n",
            "Epoch 45/50\n",
            "782/782 [==============================] - 14s 18ms/step - loss: 0.0016 - accuracy: 0.9994 - val_loss: 1.5692 - val_accuracy: 0.7789\n",
            "Epoch 46/50\n",
            "782/782 [==============================] - 14s 18ms/step - loss: 0.0130 - accuracy: 0.9960 - val_loss: 1.3394 - val_accuracy: 0.8129\n",
            "Epoch 47/50\n",
            "782/782 [==============================] - 14s 18ms/step - loss: 0.0027 - accuracy: 0.9995 - val_loss: 1.3181 - val_accuracy: 0.8114\n",
            "Epoch 48/50\n",
            "782/782 [==============================] - 14s 18ms/step - loss: 0.0011 - accuracy: 0.9997 - val_loss: 1.4952 - val_accuracy: 0.8119\n",
            "Epoch 49/50\n",
            "782/782 [==============================] - 14s 18ms/step - loss: 0.0070 - accuracy: 0.9983 - val_loss: 1.3845 - val_accuracy: 0.8058\n",
            "Epoch 50/50\n",
            "782/782 [==============================] - 14s 18ms/step - loss: 0.0030 - accuracy: 0.9993 - val_loss: 1.4585 - val_accuracy: 0.8074\n"
          ],
          "name": "stdout"
        }
      ]
    },
    {
      "cell_type": "code",
      "metadata": {
        "id": "8EJF0YM7kl8H",
        "colab_type": "code",
        "colab": {
          "base_uri": "https://localhost:8080/",
          "height": 541
        },
        "outputId": "02616d24-7fe3-4c98-db8e-0deab91d08dd"
      },
      "source": [
        "import matplotlib.pyplot as plt\n",
        "\n",
        "def plot_graphs(history, string):\n",
        "  plt.plot(history.history[string])\n",
        "  plt.plot(history.history['val_'+string])\n",
        "  plt.xlabel(\"Epochs\")\n",
        "  plt.ylabel(string)\n",
        "  plt.legend([string, 'val_'+string])\n",
        "  plt.show()\n",
        "\n",
        "plot_graphs(history, 'accuracy')\n",
        "plot_graphs(history, 'loss')"
      ],
      "execution_count": 19,
      "outputs": [
        {
          "output_type": "display_data",
          "data": {
            "image/png": "[encoded data removed]",
            "text/plain": [
              "<Figure size 432x288 with 1 Axes>"
            ]
          },
          "metadata": {
            "tags": [],
            "needs_background": "light"
          }
        },
        {
          "output_type": "display_data",
          "data": {
            "image/png": "[encoded data removed]",
            "text/plain": [
              "<Figure size 432x288 with 1 Axes>"
            ]
          },
          "metadata": {
            "tags": [],
            "needs_background": "light"
          }
        }
      ]
    },
    {
      "cell_type": "code",
      "metadata": {
        "id": "mripklY5f_Xv",
        "colab_type": "code",
        "colab": {
          "base_uri": "https://localhost:8080/",
          "height": 336
        },
        "outputId": "62cc5021-9fa3-446a-fe35-96917b792dee"
      },
      "source": [
        "# Model Definition with Conv1D\n",
        "model = tf.keras.Sequential([\n",
        "    tf.keras.layers.Embedding(vocab_size, embedding_dim, input_length=max_length),\n",
        "    tf.keras.layers.Conv1D(128, 5, activation='relu'),\n",
        "    tf.keras.layers.GlobalAveragePooling1D(),\n",
        "    tf.keras.layers.Dense(6, activation='relu'),\n",
        "    tf.keras.layers.Dense(1, activation='sigmoid')\n",
        "])\n",
        "\n",
        "model.compile(\n",
        "    loss='binary_crossentropy',\n",
        "    optimizer='adam',\n",
        "    metrics=['accuracy']\n",
        ")\n",
        "\n",
        "model.summary()"
      ],
      "execution_count": 20,
      "outputs": [
        {
          "output_type": "stream",
          "text": [
            "Model: \"sequential_2\"\n",
            "_________________________________________________________________\n",
            "Layer (type)                 Output Shape              Param #   \n",
            "=================================================================\n",
            "embedding_2 (Embedding)      (None, 120, 16)           160000    \n",
            "_________________________________________________________________\n",
            "conv1d (Conv1D)              (None, 116, 128)          10368     \n",
            "_________________________________________________________________\n",
            "global_average_pooling1d (Gl (None, 128)               0         \n",
            "_________________________________________________________________\n",
            "dense_4 (Dense)              (None, 6)                 774       \n",
            "_________________________________________________________________\n",
            "dense_5 (Dense)              (None, 1)                 7         \n",
            "=================================================================\n",
            "Total params: 171,149\n",
            "Trainable params: 171,149\n",
            "Non-trainable params: 0\n",
            "_________________________________________________________________\n"
          ],
          "name": "stdout"
        }
      ]
    },
    {
      "cell_type": "code",
      "metadata": {
        "id": "DB-g-jJnktFP",
        "colab_type": "code",
        "colab": {
          "base_uri": "https://localhost:8080/",
          "height": 1000
        },
        "outputId": "d30fc65b-b33a-416b-c378-6ee7964efd5b"
      },
      "source": [
        "# Training the model\n",
        "num_epochs = 50\n",
        "\n",
        "history = model.fit(\n",
        "    padded,\n",
        "    training_labels_final,\n",
        "    epochs=num_epochs,\n",
        "    validation_data=(testing_padded, testing_labels_final)\n",
        ")"
      ],
      "execution_count": 21,
      "outputs": [
        {
          "output_type": "stream",
          "text": [
            "Epoch 1/50\n",
            "782/782 [==============================] - 6s 7ms/step - loss: 0.5347 - accuracy: 0.7670 - val_loss: 0.4427 - val_accuracy: 0.8409\n",
            "Epoch 2/50\n",
            "782/782 [==============================] - 6s 7ms/step - loss: 0.3645 - accuracy: 0.8779 - val_loss: 0.4077 - val_accuracy: 0.8386\n",
            "Epoch 3/50\n",
            "782/782 [==============================] - 6s 7ms/step - loss: 0.2842 - accuracy: 0.9087 - val_loss: 0.4116 - val_accuracy: 0.8326\n",
            "Epoch 4/50\n",
            "782/782 [==============================] - 6s 7ms/step - loss: 0.2319 - accuracy: 0.9272 - val_loss: 0.4502 - val_accuracy: 0.8338\n",
            "Epoch 5/50\n",
            "782/782 [==============================] - 6s 7ms/step - loss: 0.1950 - accuracy: 0.9410 - val_loss: 0.4905 - val_accuracy: 0.8298\n",
            "Epoch 6/50\n",
            "782/782 [==============================] - 5s 7ms/step - loss: 0.1649 - accuracy: 0.9527 - val_loss: 0.5417 - val_accuracy: 0.8219\n",
            "Epoch 7/50\n",
            "782/782 [==============================] - 6s 7ms/step - loss: 0.1433 - accuracy: 0.9616 - val_loss: 0.6214 - val_accuracy: 0.8254\n",
            "Epoch 8/50\n",
            "782/782 [==============================] - 6s 7ms/step - loss: 0.1306 - accuracy: 0.9654 - val_loss: 0.6717 - val_accuracy: 0.8190\n",
            "Epoch 9/50\n",
            "782/782 [==============================] - 6s 7ms/step - loss: 0.1189 - accuracy: 0.9689 - val_loss: 0.7797 - val_accuracy: 0.8207\n",
            "Epoch 10/50\n",
            "782/782 [==============================] - 6s 7ms/step - loss: 0.1140 - accuracy: 0.9708 - val_loss: 0.8896 - val_accuracy: 0.8215\n",
            "Epoch 11/50\n",
            "782/782 [==============================] - 6s 7ms/step - loss: 0.1099 - accuracy: 0.9716 - val_loss: 0.9000 - val_accuracy: 0.8189\n",
            "Epoch 12/50\n",
            "782/782 [==============================] - 6s 7ms/step - loss: 0.1131 - accuracy: 0.9700 - val_loss: 1.0239 - val_accuracy: 0.8201\n",
            "Epoch 13/50\n",
            "782/782 [==============================] - 6s 7ms/step - loss: 0.1135 - accuracy: 0.9692 - val_loss: 0.8723 - val_accuracy: 0.8092\n",
            "Epoch 14/50\n",
            "782/782 [==============================] - 6s 7ms/step - loss: 0.1074 - accuracy: 0.9718 - val_loss: 0.9563 - val_accuracy: 0.8176\n",
            "Epoch 15/50\n",
            "782/782 [==============================] - 6s 7ms/step - loss: 0.1021 - accuracy: 0.9746 - val_loss: 0.9935 - val_accuracy: 0.8134\n",
            "Epoch 16/50\n",
            "782/782 [==============================] - 6s 7ms/step - loss: 0.1010 - accuracy: 0.9750 - val_loss: 1.0980 - val_accuracy: 0.8179\n",
            "Epoch 17/50\n",
            "782/782 [==============================] - 6s 7ms/step - loss: 0.1012 - accuracy: 0.9748 - val_loss: 1.0645 - val_accuracy: 0.8136\n",
            "Epoch 18/50\n",
            "782/782 [==============================] - 6s 7ms/step - loss: 0.1046 - accuracy: 0.9730 - val_loss: 1.1069 - val_accuracy: 0.8149\n",
            "Epoch 19/50\n",
            "782/782 [==============================] - 6s 7ms/step - loss: 0.1064 - accuracy: 0.9724 - val_loss: 1.0942 - val_accuracy: 0.8124\n",
            "Epoch 20/50\n",
            "782/782 [==============================] - 6s 7ms/step - loss: 0.1041 - accuracy: 0.9728 - val_loss: 1.0625 - val_accuracy: 0.8107\n",
            "Epoch 21/50\n",
            "782/782 [==============================] - 6s 7ms/step - loss: 0.0989 - accuracy: 0.9755 - val_loss: 1.1169 - val_accuracy: 0.8139\n",
            "Epoch 22/50\n",
            "782/782 [==============================] - 6s 7ms/step - loss: 0.0976 - accuracy: 0.9760 - val_loss: 1.0800 - val_accuracy: 0.8066\n",
            "Epoch 23/50\n",
            "782/782 [==============================] - 6s 7ms/step - loss: 0.0983 - accuracy: 0.9755 - val_loss: 1.1333 - val_accuracy: 0.8109\n",
            "Epoch 24/50\n",
            "782/782 [==============================] - 6s 7ms/step - loss: 0.1024 - accuracy: 0.9740 - val_loss: 1.3138 - val_accuracy: 0.8147\n",
            "Epoch 25/50\n",
            "782/782 [==============================] - 6s 7ms/step - loss: 0.1029 - accuracy: 0.9738 - val_loss: 1.1928 - val_accuracy: 0.8109\n",
            "Epoch 26/50\n",
            "782/782 [==============================] - 6s 7ms/step - loss: 0.0993 - accuracy: 0.9752 - val_loss: 1.1620 - val_accuracy: 0.8074\n",
            "Epoch 27/50\n",
            "782/782 [==============================] - 6s 7ms/step - loss: 0.0968 - accuracy: 0.9761 - val_loss: 1.1447 - val_accuracy: 0.8058\n",
            "Epoch 28/50\n",
            "782/782 [==============================] - 6s 7ms/step - loss: 0.0960 - accuracy: 0.9764 - val_loss: 1.2111 - val_accuracy: 0.8079\n",
            "Epoch 29/50\n",
            "782/782 [==============================] - 6s 7ms/step - loss: 0.0957 - accuracy: 0.9766 - val_loss: 1.0909 - val_accuracy: 0.8029\n",
            "Epoch 30/50\n",
            "782/782 [==============================] - 6s 7ms/step - loss: 0.0971 - accuracy: 0.9760 - val_loss: 1.1939 - val_accuracy: 0.8066\n",
            "Epoch 31/50\n",
            "782/782 [==============================] - 6s 7ms/step - loss: 0.0994 - accuracy: 0.9746 - val_loss: 1.1434 - val_accuracy: 0.8040\n",
            "Epoch 32/50\n",
            "782/782 [==============================] - 6s 7ms/step - loss: 0.0992 - accuracy: 0.9750 - val_loss: 1.0745 - val_accuracy: 0.8004\n",
            "Epoch 33/50\n",
            "782/782 [==============================] - 6s 7ms/step - loss: 0.0968 - accuracy: 0.9761 - val_loss: 1.3493 - val_accuracy: 0.8146\n",
            "Epoch 34/50\n",
            "782/782 [==============================] - 6s 7ms/step - loss: 0.0950 - accuracy: 0.9767 - val_loss: 1.2880 - val_accuracy: 0.8140\n",
            "Epoch 35/50\n",
            "782/782 [==============================] - 6s 7ms/step - loss: 0.0933 - accuracy: 0.9773 - val_loss: 1.2112 - val_accuracy: 0.8087\n",
            "Epoch 36/50\n",
            "782/782 [==============================] - 6s 7ms/step - loss: 0.0927 - accuracy: 0.9776 - val_loss: 1.3391 - val_accuracy: 0.8133\n",
            "Epoch 37/50\n",
            "782/782 [==============================] - 6s 7ms/step - loss: 0.0931 - accuracy: 0.9774 - val_loss: 1.2894 - val_accuracy: 0.8092\n",
            "Epoch 38/50\n",
            "782/782 [==============================] - 6s 7ms/step - loss: 0.0979 - accuracy: 0.9754 - val_loss: 1.4071 - val_accuracy: 0.8133\n",
            "Epoch 39/50\n",
            "782/782 [==============================] - 6s 7ms/step - loss: 0.0973 - accuracy: 0.9756 - val_loss: 1.3091 - val_accuracy: 0.8116\n",
            "Epoch 40/50\n",
            "782/782 [==============================] - 6s 7ms/step - loss: 0.0928 - accuracy: 0.9775 - val_loss: 1.2548 - val_accuracy: 0.8078\n",
            "Epoch 41/50\n",
            "782/782 [==============================] - 6s 7ms/step - loss: 0.0925 - accuracy: 0.9776 - val_loss: 1.3742 - val_accuracy: 0.8126\n",
            "Epoch 42/50\n",
            "782/782 [==============================] - 6s 8ms/step - loss: 0.0916 - accuracy: 0.9779 - val_loss: 1.2833 - val_accuracy: 0.8082\n",
            "Epoch 43/50\n",
            "782/782 [==============================] - 6s 8ms/step - loss: 0.0960 - accuracy: 0.9760 - val_loss: 1.3271 - val_accuracy: 0.8112\n",
            "Epoch 44/50\n",
            "782/782 [==============================] - 6s 7ms/step - loss: 0.0984 - accuracy: 0.9753 - val_loss: 1.4107 - val_accuracy: 0.8118\n",
            "Epoch 45/50\n",
            "782/782 [==============================] - 6s 7ms/step - loss: 0.0947 - accuracy: 0.9764 - val_loss: 1.2060 - val_accuracy: 0.8056\n",
            "Epoch 46/50\n",
            "782/782 [==============================] - 6s 7ms/step - loss: 0.0922 - accuracy: 0.9775 - val_loss: 1.2256 - val_accuracy: 0.8042\n",
            "Epoch 47/50\n",
            "782/782 [==============================] - 6s 7ms/step - loss: 0.0919 - accuracy: 0.9777 - val_loss: 1.5439 - val_accuracy: 0.8166\n",
            "Epoch 48/50\n",
            "782/782 [==============================] - 6s 7ms/step - loss: 0.0930 - accuracy: 0.9771 - val_loss: 1.3840 - val_accuracy: 0.8108\n",
            "Epoch 49/50\n",
            "782/782 [==============================] - 6s 7ms/step - loss: 0.0926 - accuracy: 0.9774 - val_loss: 1.2282 - val_accuracy: 0.8012\n",
            "Epoch 50/50\n",
            "782/782 [==============================] - 6s 7ms/step - loss: 0.0940 - accuracy: 0.9768 - val_loss: 1.5665 - val_accuracy: 0.8152\n"
          ],
          "name": "stdout"
        }
      ]
    },
    {
      "cell_type": "code",
      "metadata": {
        "id": "0HjQhXMOkt-h",
        "colab_type": "code",
        "colab": {
          "base_uri": "https://localhost:8080/",
          "height": 541
        },
        "outputId": "d12db8ad-f9aa-4195-e006-f3a7de65c798"
      },
      "source": [
        "import matplotlib.pyplot as plt\n",
        "\n",
        "def plot_graphs(history, string):\n",
        "  plt.plot(history.history[string])\n",
        "  plt.plot(history.history['val_'+string])\n",
        "  plt.xlabel(\"Epochs\")\n",
        "  plt.ylabel(string)\n",
        "  plt.legend([string, 'val_'+string])\n",
        "  plt.show()\n",
        "\n",
        "plot_graphs(history, 'accuracy')\n",
        "plot_graphs(history, 'loss')"
      ],
      "execution_count": 22,
      "outputs": [
        {
          "output_type": "display_data",
          "data": {
            "image/png": "[encoded data removed]",
            "text/plain": [
              "<Figure size 432x288 with 1 Axes>"
            ]
          },
          "metadata": {
            "tags": [],
            "needs_background": "light"
          }
        },
        {
          "output_type": "display_data",
          "data": {
            "image/png": "[encoded data removed]",
            "text/plain": [
              "<Figure size 432x288 with 1 Axes>"
            ]
          },
          "metadata": {
            "tags": [],
            "needs_background": "light"
          }
        }
      ]
    }
  ]
}